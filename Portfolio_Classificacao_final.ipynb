{
  "cells": [
    {
      "cell_type": "markdown",
      "metadata": {
        "id": "view-in-github",
        "colab_type": "text"
      },
      "source": [
        "<a href=\"https://colab.research.google.com/github/AlexKitano/Portfolio/blob/main/Portfolio_Classificacao_final.ipynb\" target=\"_parent\"><img src=\"https://colab.research.google.com/assets/colab-badge.svg\" alt=\"Open In Colab\"/></a>"
      ]
    },
    {
      "cell_type": "markdown",
      "metadata": {
        "id": "THgqhFyrZqzP"
      },
      "source": [
        "Vamos realizar uma análise nos dados para previsão de doenças cardíacas."
      ]
    },
    {
      "cell_type": "markdown",
      "metadata": {
        "id": "qPX--dcHaKXP"
      },
      "source": [
        "Fazendo a leitura de dados."
      ]
    },
    {
      "cell_type": "markdown",
      "metadata": {
        "id": "YYnwszuLaN1E"
      },
      "source": [
        "Fazer a leitura da base de dados, a partir do arquivo raw_merged_heart_dataset.csv'e utilizando o read_csv() da biblioteca pandas."
      ]
    },
    {
      "cell_type": "code",
      "execution_count": null,
      "metadata": {
        "id": "F9bw-zfnaUdY"
      },
      "outputs": [],
      "source": [
        "import pandas as pd"
      ]
    },
    {
      "cell_type": "code",
      "execution_count": null,
      "metadata": {
        "id": "0gw0KqAIZHh4"
      },
      "outputs": [],
      "source": [
        "dados = pd.read_csv('/content/cleaned_merged_heart_dataset.csv')"
      ]
    },
    {
      "cell_type": "code",
      "execution_count": null,
      "metadata": {
        "id": "4PhN49puacb0"
      },
      "outputs": [],
      "source": [
        "dados"
      ]
    },
    {
      "cell_type": "markdown",
      "metadata": {
        "id": "3Tvvo0_re_2i"
      },
      "source": [
        "Verificar informações adicionais dos dados, como a presença de dados nulos e tipos de dados em cada coluna, usando o método info()."
      ]
    },
    {
      "cell_type": "code",
      "execution_count": null,
      "metadata": {
        "id": "fJ7nQCNyyn-i"
      },
      "outputs": [],
      "source": [
        "dados.info()"
      ]
    },
    {
      "cell_type": "code",
      "execution_count": null,
      "metadata": {
        "id": "ZinZWSulPPGV"
      },
      "outputs": [],
      "source": [
        "dados[\"sex\"].value_counts()"
      ]
    },
    {
      "cell_type": "code",
      "execution_count": null,
      "metadata": {
        "id": "1NiEiyQHQFkB"
      },
      "outputs": [],
      "source": [
        "dados[\"cp\"].value_counts()"
      ]
    },
    {
      "cell_type": "code",
      "execution_count": null,
      "metadata": {
        "id": "U9pjv2ceRYH5"
      },
      "outputs": [],
      "source": [
        "dados[\"fbs\"].value_counts()"
      ]
    },
    {
      "cell_type": "code",
      "execution_count": null,
      "metadata": {
        "id": "4AVzX50zRoMc"
      },
      "outputs": [],
      "source": [
        "dados[\"restecg\"].value_counts()"
      ]
    },
    {
      "cell_type": "code",
      "execution_count": null,
      "metadata": {
        "id": "1A2t2HHfSCiJ"
      },
      "outputs": [],
      "source": [
        "dados[\"exang\"].value_counts()"
      ]
    },
    {
      "cell_type": "code",
      "execution_count": null,
      "metadata": {
        "id": "xfMmI7ijTeKy"
      },
      "outputs": [],
      "source": [
        "dados[\"slope\"].value_counts()"
      ]
    },
    {
      "cell_type": "code",
      "execution_count": null,
      "metadata": {
        "id": "Mw960Bm9Ti1d"
      },
      "outputs": [],
      "source": [
        "dados[\"ca\"].value_counts()"
      ]
    },
    {
      "cell_type": "code",
      "execution_count": null,
      "metadata": {
        "id": "PyVvcKd_ToPG"
      },
      "outputs": [],
      "source": [
        "dados[\"thal\"].value_counts()"
      ]
    },
    {
      "cell_type": "code",
      "execution_count": null,
      "metadata": {
        "id": "pMRnSgSKTwrS"
      },
      "outputs": [],
      "source": [
        "dados[\"target\"].value_counts()"
      ]
    },
    {
      "cell_type": "code",
      "execution_count": null,
      "metadata": {
        "id": "n_ADmfIZoXHE"
      },
      "outputs": [],
      "source": [
        "# Criar colunas codificadas:\n",
        "categorical_columns = [col for col in ['cp', 'restecg', 'slope', 'ca', 'thal'] if col in dados.columns]\n",
        "\n",
        "dados = pd.get_dummies(dados, columns=categorical_columns, drop_first=False)\n",
        "\n",
        "dados"
      ]
    },
    {
      "cell_type": "code",
      "execution_count": null,
      "metadata": {
        "id": "ZbOMAClPvecH"
      },
      "outputs": [],
      "source": [
        "dados = dados.replace({True: 1, False: 0})\n",
        "dados"
      ]
    },
    {
      "cell_type": "code",
      "execution_count": null,
      "metadata": {
        "id": "NAXxTPHnGpYg"
      },
      "outputs": [],
      "source": [
        "# Colocar a coluna target como última coluna\n",
        "target_column = dados.pop('target')\n",
        "dados['target'] = target_column\n",
        "\n",
        "dados"
      ]
    },
    {
      "cell_type": "markdown",
      "metadata": {
        "id": "izkOwcW7ZQ4Z"
      },
      "source": [
        "Análise Descritiva"
      ]
    },
    {
      "cell_type": "code",
      "execution_count": null,
      "metadata": {
        "id": "MmPYsqTuaZDn"
      },
      "outputs": [],
      "source": [
        "import seaborn as sns\n",
        "import matplotlib.pyplot as plt"
      ]
    },
    {
      "cell_type": "code",
      "execution_count": null,
      "metadata": {
        "id": "bM5_ukApa6ZZ"
      },
      "outputs": [],
      "source": [
        "plt.figure(figsize=(8, 6))\n",
        "\n",
        "sns.set_style(\"whitegrid\")\n",
        "\n",
        "ax = sns.boxplot(x = \"target\", y = \"age\", data=dados,\n",
        "                 hue = \"target\", linewidth = 5, palette = \"Set3\")\n",
        "\n",
        "ax.set_xlabel(\"Risco de Ataque Cardíaco e Derrame\")\n",
        "ax.set_ylabel(\"Idade\")\n",
        "\n",
        "handles, _ = ax.get_legend_handles_labels()\n",
        "ax.legend(handles, [\"0: Menos chance\", \"1: Mais chance\"], fontsize = 12, bbox_to_anchor = (1.05, 1))\n",
        "plt.show()"
      ]
    },
    {
      "cell_type": "code",
      "execution_count": null,
      "metadata": {
        "id": "uFcJm5djr-a4"
      },
      "outputs": [],
      "source": [
        "plt.figure(figsize=(8, 6))\n",
        "\n",
        "sns.set_style(\"whitegrid\")\n",
        "\n",
        "ax = sns.boxplot(x = \"target\", y = \"trestbps\", data=dados,\n",
        "                 hue = \"target\", linewidth = 5, palette = \"Set3\")\n",
        "\n",
        "ax.set_xlabel(\"Risco de Ataque Cardíaco e Derrame\")\n",
        "ax.set_ylabel(\"Pressão Arterial em Repouso\")\n",
        "\n",
        "handles, _ = ax.get_legend_handles_labels()\n",
        "ax.legend(handles, [\"0: Menos chance\", \"1: Mais chance\"], fontsize = 12, bbox_to_anchor = (1.05, 1))\n",
        "plt.show()"
      ]
    },
    {
      "cell_type": "code",
      "execution_count": null,
      "metadata": {
        "id": "vcmwrxyd8OAY"
      },
      "outputs": [],
      "source": [
        "plt.figure(figsize=(8, 6))\n",
        "\n",
        "sns.set_style(\"whitegrid\")\n",
        "\n",
        "ax = sns.boxplot(x = \"target\", y = \"chol\", data=dados,\n",
        "                 hue = \"target\", linewidth = 5, palette = \"Set3\")\n",
        "\n",
        "ax.set_xlabel(\"Risco de Ataque Cardíaco e Derrame\")\n",
        "ax.set_ylabel(\"Nível de Colesterol Sérico\")\n",
        "\n",
        "handles, _ = ax.get_legend_handles_labels()\n",
        "ax.legend(handles, [\"0: Menos chance\", \"1: Mais chance\"], fontsize = 12, bbox_to_anchor = (1.05, 1))\n",
        "plt.show()"
      ]
    },
    {
      "cell_type": "code",
      "execution_count": null,
      "metadata": {
        "id": "vhSUApCd8sw4"
      },
      "outputs": [],
      "source": [
        "plt.figure(figsize=(8, 6))\n",
        "\n",
        "sns.set_style(\"whitegrid\")\n",
        "\n",
        "ax = sns.boxplot(x = \"target\", y = \"thalachh\", data=dados,\n",
        "                 hue = \"target\", linewidth = 5, palette = \"Set3\")\n",
        "\n",
        "ax.set_xlabel(\"Risco de Ataque Cardíaco e Derrame\")\n",
        "ax.set_ylabel(\"Frequência Cardíaca Máxima Atingida\")\n",
        "\n",
        "handles, _ = ax.get_legend_handles_labels()\n",
        "ax.legend(handles, [\"0: Menos chance\", \"1: Mais chance\"], fontsize = 12, bbox_to_anchor = (1.05, 1))\n",
        "plt.show()"
      ]
    },
    {
      "cell_type": "code",
      "execution_count": null,
      "metadata": {
        "id": "Jadat1bCAaGk"
      },
      "outputs": [],
      "source": [
        "plt.figure(figsize=(8, 6))\n",
        "\n",
        "sns.set_style(\"whitegrid\")\n",
        "\n",
        "ax = sns.boxplot(x = \"target\", y = \"oldpeak\", data=dados,\n",
        "                 hue = \"target\", linewidth = 5, palette = \"Set3\")\n",
        "\n",
        "ax.set_xlabel(\"Risco de Ataque Cardíaco e Derrame\")\n",
        "ax.set_ylabel(\"Depressão Do Segmento ST Induzida Pelo Exercício Em Relação Ao Repouso\")\n",
        "\n",
        "handles, _ = ax.get_legend_handles_labels()\n",
        "ax.legend(handles, [\"0: Menos chance\", \"1: Mais chance\"], fontsize = 12, bbox_to_anchor = (1.05, 1))\n",
        "plt.show()"
      ]
    },
    {
      "cell_type": "markdown",
      "metadata": {
        "id": "2BgubZrKxUSQ"
      },
      "source": [
        "Separar os dados em treino e teste"
      ]
    },
    {
      "cell_type": "code",
      "execution_count": null,
      "metadata": {
        "id": "nwQNiEB6xTO5"
      },
      "outputs": [],
      "source": [
        "X, y = dados.iloc[:, :-1], dados.iloc[:, -1]"
      ]
    },
    {
      "cell_type": "code",
      "execution_count": null,
      "metadata": {
        "id": "0umf86__Ho3X"
      },
      "outputs": [],
      "source": [
        "from sklearn.model_selection import train_test_split\n",
        "X_treino, X_teste, y_treino, y_teste = train_test_split(X, y, test_size=0.2, stratify=y, random_state=42)"
      ]
    },
    {
      "cell_type": "markdown",
      "metadata": {
        "id": "MXMHcTl8m36G"
      },
      "source": [
        "Decision Tree"
      ]
    },
    {
      "cell_type": "code",
      "execution_count": null,
      "metadata": {
        "id": "b_e9sjWgIPU_"
      },
      "outputs": [],
      "source": [
        "from sklearn.tree import DecisionTreeClassifier"
      ]
    },
    {
      "cell_type": "code",
      "execution_count": null,
      "metadata": {
        "id": "U6c5svXHtohg"
      },
      "outputs": [],
      "source": [
        "dt = DecisionTreeClassifier(random_state=0)\n",
        "\n",
        "dt.fit(X_treino, y_treino)\n",
        "\n",
        "preds = dt.predict(X_teste)\n",
        "\n",
        "from sklearn.metrics import accuracy_score\n",
        "\n",
        "acuracia = accuracy_score(y_teste, preds)\n",
        "print(f'Acurácia: {acuracia:.2f}')"
      ]
    },
    {
      "cell_type": "code",
      "execution_count": null,
      "metadata": {
        "id": "oszGhMagvL8V"
      },
      "outputs": [],
      "source": [
        "from sklearn.metrics import classification_report\n",
        "\n",
        "report = (classification_report(y_teste, preds))\n",
        "print(report)"
      ]
    },
    {
      "cell_type": "code",
      "execution_count": null,
      "metadata": {
        "id": "aHUk-Qao94mI"
      },
      "outputs": [],
      "source": [
        "from sklearn.metrics import RocCurveDisplay\n",
        "RocCurveDisplay.from_predictions(y_teste, preds, name='Decision Tree');"
      ]
    },
    {
      "cell_type": "markdown",
      "metadata": {
        "id": "xgHPCk_GFnr5"
      },
      "source": [
        "Classificação com XGBoost"
      ]
    },
    {
      "cell_type": "code",
      "execution_count": null,
      "metadata": {
        "id": "Stf8fOHeFrrA"
      },
      "outputs": [],
      "source": [
        "import xgboost as xgb"
      ]
    },
    {
      "cell_type": "code",
      "execution_count": null,
      "metadata": {
        "id": "8iTIWXnaIK9x"
      },
      "outputs": [],
      "source": [
        "xg_cl = xgb.XGBClassifier(objective='binary:logistic', enable_categorical=True)\n",
        "xg_cl.fit(X_treino, y_treino)\n",
        "preds = xg_cl.predict(X_teste)\n",
        "\n",
        "acuracia = accuracy_score(y_teste, preds)\n",
        "print(f'Acurácia: {acuracia:.2f}')"
      ]
    },
    {
      "cell_type": "markdown",
      "metadata": {
        "id": "EdD3GraDaZ-P"
      },
      "source": [
        "Analisando as métricas do XGBoost"
      ]
    },
    {
      "cell_type": "code",
      "execution_count": null,
      "metadata": {
        "id": "tsH1xdS0alR4"
      },
      "outputs": [],
      "source": [
        "report = (classification_report(y_teste, preds))\n",
        "print(report)"
      ]
    },
    {
      "cell_type": "code",
      "execution_count": null,
      "metadata": {
        "id": "4OL1RAyNa65_"
      },
      "outputs": [],
      "source": [
        "RocCurveDisplay.from_predictions(y_teste, preds, name='XGBoost');"
      ]
    },
    {
      "cell_type": "code",
      "execution_count": null,
      "metadata": {
        "id": "OmchZyLQqD4h"
      },
      "outputs": [],
      "source": [
        "from sklearn.metrics import ConfusionMatrixDisplay\n",
        "\n",
        "ConfusionMatrixDisplay.from_estimator(xg_cl, X_teste, y_teste, display_labels=['Ausencia', 'Presenca'],\n",
        "                                      normalize='true', cmap='Blues');"
      ]
    },
    {
      "cell_type": "markdown",
      "metadata": {
        "id": "aiR-XeRYzuMY"
      },
      "source": [
        "Aplicando a validação cruzada"
      ]
    },
    {
      "cell_type": "code",
      "execution_count": null,
      "metadata": {
        "id": "U249X85aC3jo"
      },
      "outputs": [],
      "source": [
        "dmatrix = xgb.DMatrix(data=X, label=y, enable_categorical=True)"
      ]
    },
    {
      "cell_type": "code",
      "execution_count": null,
      "metadata": {
        "id": "tzAgNvH4DkM4"
      },
      "outputs": [],
      "source": [
        "params = {\"objective\":\"binary:logistic\"}\n",
        "\n",
        "cv_resultados = xgb.cv(dtrain=dmatrix, params=params, nfold=3, num_boost_round=5, metrics=\"error\", as_pandas=True, seed=123)\n",
        "print(cv_resultados)\n",
        "acuracia = 1 - cv_resultados[\"test-error-mean\"].iloc[-1]\n",
        "print(f'Acurácia: {acuracia:.2f}')"
      ]
    },
    {
      "cell_type": "code",
      "execution_count": null,
      "metadata": {
        "id": "l0tNgzcsEbYv"
      },
      "outputs": [],
      "source": [
        "params = {\"objective\":\"binary:logistic\"}\n",
        "\n",
        "cv_resultados = xgb.cv(dtrain=dmatrix, params=params, nfold=3, num_boost_round=50, metrics=\"error\", as_pandas=True, seed=123)\n",
        "print(cv_resultados)\n",
        "acuracia = 1 - cv_resultados[\"test-error-mean\"].iloc[-1]\n",
        "print(f'Acurácia: {acuracia:.2f}')"
      ]
    },
    {
      "cell_type": "markdown",
      "metadata": {
        "id": "iukIofJUJLXm"
      },
      "source": [
        "Ajustando hiperparâmetros do XGboost"
      ]
    },
    {
      "cell_type": "code",
      "execution_count": null,
      "metadata": {
        "id": "mF9zb36mJyU1"
      },
      "outputs": [],
      "source": [
        "params = {\"objective\":\"binary:logistic\"}\n",
        "\n",
        "cv_resultados = xgb.cv(dtrain=dmatrix, params=params, nfold=3, num_boost_round=100,\n",
        "                       early_stopping_rounds=3, metrics=\"error\", as_pandas=True, seed=123)\n",
        "print(cv_resultados)\n",
        "acuracia = 1 - cv_resultados[\"test-error-mean\"].iloc[-1]\n",
        "print(f'Acurácia: {acuracia:.2f}')"
      ]
    },
    {
      "cell_type": "code",
      "execution_count": null,
      "metadata": {
        "id": "jIyJuhii-GJj"
      },
      "outputs": [],
      "source": [
        "params = {\"objective\":\"binary:logistic\", \"colsample_bytreee\": 0.3,\n",
        "          \"learning_rate\": 0.1, \"max_depth\": 5}\n",
        "\n",
        "cv_resultados = xgb.cv(dtrain=dmatrix, params=params, nfold=3, num_boost_round=100,\n",
        "                       early_stopping_rounds=3, metrics=\"error\", as_pandas=True, seed=123)\n",
        "print(cv_resultados)\n",
        "acuracia = 1 - cv_resultados[\"test-error-mean\"].iloc[-1]\n",
        "print(f'Acurácia: {acuracia:.2f}')"
      ]
    },
    {
      "cell_type": "markdown",
      "metadata": {
        "id": "3LzMZGiQ_xYW"
      },
      "source": [
        "Aplicando o Random Search"
      ]
    },
    {
      "cell_type": "code",
      "execution_count": null,
      "metadata": {
        "id": "0zwKdZ9hOjHF"
      },
      "outputs": [],
      "source": [
        "from sklearn.model_selection import RandomizedSearchCV\n",
        "\n",
        "params = {\n",
        "    'max_depth': [0, 2, 4, 6, 10],\n",
        "    'learning_rate': [0.1, 0.2, 0.3],\n",
        "    'colsample_bytree': [0.1, 0.5, 1],\n",
        "    'n_estimators': [10, 25, 50]\n",
        "}\n",
        "\n",
        "modelo_xgb = xgb.XGBClassifier()\n",
        "\n",
        "random_search_cv = RandomizedSearchCV(estimator=modelo_xgb, param_distributions=params,\n",
        "                                      n_iter=5, cv=4, scoring='accuracy', verbose=1)\n",
        "\n",
        "random_search_cv.fit(X, y)\n",
        "\n",
        "print('Melhores parametros encontrados: ', random_search_cv.best_params_)\n",
        "print('Acuracia: ', random_search_cv.best_score_)"
      ]
    },
    {
      "cell_type": "markdown",
      "metadata": {
        "id": "aZo26aBjO-Ku"
      },
      "source": [
        "Aplicando o Grid Search"
      ]
    },
    {
      "cell_type": "code",
      "execution_count": null,
      "metadata": {
        "id": "eekvQPoWPYxM"
      },
      "outputs": [],
      "source": [
        "from sklearn.model_selection import GridSearchCV\n",
        "\n",
        "params = {\n",
        "    'max_depth': [0, 2, 4, 6, 10],\n",
        "    'learning_rate': [0.1, 0.2, 0.3],\n",
        "    'colsample_bytree': [0.1, 0.5, 1],\n",
        "    'n_estimators': [10, 25, 50]\n",
        "}\n",
        "\n",
        "modelo_xgb = xgb.XGBClassifier()\n",
        "\n",
        "grid_search_cv = GridSearchCV(estimator=modelo_xgb, param_grid=params, cv=4, scoring='accuracy', verbose=1)\n",
        "\n",
        "grid_search_cv.fit(X, y)\n",
        "\n",
        "print('Melhores parametros encontrados: ', grid_search_cv.best_params_)\n",
        "print('Acuracia: ', grid_search_cv.best_score_)"
      ]
    },
    {
      "cell_type": "code",
      "execution_count": null,
      "metadata": {
        "id": "6qSfxuXluVX7"
      },
      "outputs": [],
      "source": [
        "xg_cl_ajustado = xgb.XGBClassifier(colsample_bytree=1, learning_rate=0.3, max_depth=0, n_estimators=25)\n",
        "\n",
        "xg_cl_ajustado.fit(X_treino, y_treino)\n",
        "\n",
        "preds = xg_cl_ajustado.predict(X_teste)\n",
        "\n",
        "acuracia = accuracy_score(y_teste, preds)\n",
        "print(f'Acurácia: {acuracia:.2f}')"
      ]
    },
    {
      "cell_type": "code",
      "execution_count": null,
      "metadata": {
        "id": "fMplFd1Nuh6L"
      },
      "outputs": [],
      "source": [
        "report = (classification_report(y_teste, preds))\n",
        "print(report)"
      ]
    },
    {
      "cell_type": "code",
      "execution_count": null,
      "metadata": {
        "id": "q4go-ByhuuGX"
      },
      "outputs": [],
      "source": [
        "RocCurveDisplay.from_predictions(y_teste, preds, name='XGBoost ajustado');"
      ]
    },
    {
      "cell_type": "code",
      "execution_count": null,
      "metadata": {
        "id": "wyrPQJ3Bu4Gv"
      },
      "outputs": [],
      "source": [
        "ConfusionMatrixDisplay.from_estimator(xg_cl_ajustado, X_teste, y_teste, display_labels=('Ausencia', 'Presenca'),\n",
        "                                      normalize='true', cmap='Blues');"
      ]
    },
    {
      "cell_type": "markdown",
      "metadata": {
        "id": "zncq_Uxu6xKT"
      },
      "source": [
        "Incorporando XGBoost em pipelines"
      ]
    },
    {
      "cell_type": "code",
      "execution_count": null,
      "metadata": {
        "id": "_dhyHQ04628W"
      },
      "outputs": [],
      "source": [
        "from sklearn.pipeline import Pipeline\n",
        "\n",
        "pipeline = Pipeline([\n",
        "    ('xgboost', xgb.XGBClassifier())])\n",
        "\n",
        "xgb_param_grid = {\n",
        "    'xgboost__max_depth': [0, 2, 4, 6, 10],\n",
        "    'xgboost__learning_rate': [0.1, 0.2, 0.3],\n",
        "    'xgboost__colsample_bytree': [0.1, 0.5, 1],\n",
        "    'xgboost__n_estimators': [10, 25, 50]\n",
        "}\n",
        "\n",
        "xgb_grid_search = GridSearchCV(estimator=pipeline, param_grid=xgb_param_grid, cv=4, scoring='accuracy', verbose=1)\n",
        "\n",
        "grid_search_cv.fit(X, y)\n",
        "\n",
        "print('Acuracia: ', grid_search_cv.best_score_)\n",
        "print('Melhor estimador:', grid_search_cv.best_estimator_)\n",
        "\n"
      ]
    },
    {
      "cell_type": "markdown",
      "metadata": {
        "id": "JNphEntB8tcE"
      },
      "source": [
        "Salvar o modelo"
      ]
    },
    {
      "cell_type": "code",
      "execution_count": null,
      "metadata": {
        "id": "8vfnkDEq8v15"
      },
      "outputs": [],
      "source": [
        "import joblib\n",
        "\n",
        "joblib.dump(grid_search_cv, 'modelo_pipeline.pkl')"
      ]
    },
    {
      "cell_type": "markdown",
      "metadata": {
        "id": "UsT_p1wa-Cuc"
      },
      "source": [
        "Utilizando o modelo com dados novos"
      ]
    },
    {
      "cell_type": "code",
      "execution_count": null,
      "metadata": {
        "id": "ZGWefaEyDfL2"
      },
      "outputs": [],
      "source": [
        "modelo = joblib.load('modelo_pipeline.pkl')"
      ]
    },
    {
      "cell_type": "code",
      "execution_count": null,
      "metadata": {
        "id": "cVrRu2zMGQyq"
      },
      "outputs": [],
      "source": [
        "novos_pacientes = pd.read_excel('/content/novos_pacientes.xlsx')"
      ]
    },
    {
      "cell_type": "code",
      "execution_count": null,
      "metadata": {
        "id": "nixqgM4jFlkv"
      },
      "outputs": [],
      "source": [
        "novos_pacientes"
      ]
    },
    {
      "cell_type": "code",
      "execution_count": null,
      "metadata": {
        "id": "U6l6SgkOH26x"
      },
      "outputs": [],
      "source": [
        "categorical_columns = ['cp', 'restecg', 'slope', 'ca', 'thal']\n",
        "\n",
        "# Aplicando get_dummies para novos pacientes\n",
        "novos_pacientes = pd.get_dummies(novos_pacientes, columns=categorical_columns, drop_first=False)\n",
        "\n",
        "# Garantir que todas as colunas dos dados de treinamento estejam presentes em novos_pacientesfor col in X_treino.columns:\n",
        "    if col not in novos_pacientes.columns:\n",
        "        novos_pacientes[col] = 0  # Add missing columns with 0 values\n",
        "\n",
        "# Reordenar as colunas para corresponder à ordem dos dados de treinamentonovos_pacientes = novos_pacientes[X_treino.columns]\n",
        "\n",
        "previsoes = modelo.predict(novos_pacientes)"
      ]
    },
    {
      "cell_type": "code",
      "execution_count": null,
      "metadata": {
        "id": "k8zmV1BSH98C"
      },
      "outputs": [],
      "source": [
        "previsoes"
      ]
    },
    {
      "cell_type": "code",
      "execution_count": null,
      "metadata": {
        "id": "8O6asTo6Id6w"
      },
      "outputs": [],
      "source": [
        "probabilidades = modelo.predict_proba(novos_pacientes)"
      ]
    },
    {
      "cell_type": "code",
      "execution_count": null,
      "metadata": {
        "id": "aebYJIqKIiWf"
      },
      "outputs": [],
      "source": [
        "probabilidades"
      ]
    },
    {
      "cell_type": "code",
      "execution_count": null,
      "metadata": {
        "id": "4wD7cG3sWtMP"
      },
      "outputs": [],
      "source": [
        "df_novos_pacientes = pd.DataFrame(novos_pacientes)\n",
        "\n",
        "df_novos_pacientes['previsao'] = previsoes\n",
        "\n",
        "df_novos_pacientes"
      ]
    }
  ],
  "metadata": {
    "colab": {
      "provenance": [],
      "authorship_tag": "ABX9TyOcSL7tyUb9ynO3GABUm6Rc",
      "include_colab_link": true
    },
    "kernelspec": {
      "display_name": "Python 3",
      "name": "python3"
    },
    "language_info": {
      "name": "python"
    }
  },
  "nbformat": 4,
  "nbformat_minor": 0
}