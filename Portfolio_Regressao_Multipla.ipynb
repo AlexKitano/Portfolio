{
  "nbformat": 4,
  "nbformat_minor": 0,
  "metadata": {
    "colab": {
      "provenance": []
    },
    "kernelspec": {
      "name": "python3",
      "display_name": "Python 3"
    },
    "language_info": {
      "name": "python"
    }
  },
  "cells": [
    {
      "cell_type": "code",
      "execution_count": null,
      "metadata": {
        "colab": {
          "base_uri": "https://localhost:8080/"
        },
        "id": "19IAOxC9Xepr",
        "outputId": "6aeb8b39-16ae-4147-fa98-1e9cbef3aec2"
      },
      "outputs": [
        {
          "output_type": "stream",
          "name": "stdout",
          "text": [
            "Requirement already satisfied: pyspark in /usr/local/lib/python3.10/dist-packages (3.5.3)\n",
            "Requirement already satisfied: py4j==0.10.9.7 in /usr/local/lib/python3.10/dist-packages (from pyspark) (0.10.9.7)\n"
          ]
        }
      ],
      "source": [
        "!pip install pyspark\n",
        "from pyspark.sql.functions import monotonically_increasing_id, lit, col # Import necessary functions"
      ]
    },
    {
      "cell_type": "markdown",
      "source": [
        "SparkSession"
      ],
      "metadata": {
        "id": "NCTxlCz-Xy72"
      }
    },
    {
      "cell_type": "code",
      "source": [
        "from pyspark.sql import SparkSession\n",
        "\n",
        "spark = SparkSession.builder\\\n",
        ".master(\"local[*]\")\\\n",
        ".appName(\"Regressão com Spark\")\\\n",
        ".getOrCreate()\n",
        "\n",
        "spark"
      ],
      "metadata": {
        "colab": {
          "base_uri": "https://localhost:8080/",
          "height": 219
        },
        "id": "lau4pUTSX4XY",
        "outputId": "b4cfb786-8d00-4678-f803-129603a1931c"
      },
      "execution_count": null,
      "outputs": [
        {
          "output_type": "execute_result",
          "data": {
            "text/plain": [
              "<pyspark.sql.session.SparkSession at 0x7f39e0327c40>"
            ],
            "text/html": [
              "\n",
              "            <div>\n",
              "                <p><b>SparkSession - in-memory</b></p>\n",
              "                \n",
              "        <div>\n",
              "            <p><b>SparkContext</b></p>\n",
              "\n",
              "            <p><a href=\"http://b5d80fd99ce6:4040\">Spark UI</a></p>\n",
              "\n",
              "            <dl>\n",
              "              <dt>Version</dt>\n",
              "                <dd><code>v3.5.3</code></dd>\n",
              "              <dt>Master</dt>\n",
              "                <dd><code>local[*]</code></dd>\n",
              "              <dt>AppName</dt>\n",
              "                <dd><code>Regressão com Spark</code></dd>\n",
              "            </dl>\n",
              "        </div>\n",
              "        \n",
              "            </div>\n",
              "        "
            ]
          },
          "metadata": {},
          "execution_count": 226
        }
      ]
    },
    {
      "cell_type": "markdown",
      "source": [
        "Carregamento dos dados"
      ],
      "metadata": {
        "id": "aBmgW7H_cPDB"
      }
    },
    {
      "cell_type": "code",
      "source": [
        "dados = spark.read.csv(\"/content/df_test.csv\", header = True)"
      ],
      "metadata": {
        "id": "Cnh4zRObeCPz"
      },
      "execution_count": null,
      "outputs": []
    },
    {
      "cell_type": "code",
      "source": [
        "dados.show(truncate = False)"
      ],
      "metadata": {
        "colab": {
          "base_uri": "https://localhost:8080/"
        },
        "id": "1Hz96dEKkSdB",
        "outputId": "f746b5b8-713c-41e8-d64d-d0ad73300d9b"
      },
      "execution_count": null,
      "outputs": [
        {
          "output_type": "stream",
          "name": "stdout",
          "text": [
            "+----------+--------+--------+-----+------------+------------+---------+---------+-----------------+--------------+------------+------------+-----+-------------+\n",
            "|date      |price   |bedrooms|grade|has_basement|living_in_m2|renovated|nice_view|perfect_condition|real_bathrooms|has_lavatory|single_floor|month|quartile_zone|\n",
            "+----------+--------+--------+-----+------------+------------+---------+---------+-----------------+--------------+------------+------------+-----+-------------+\n",
            "|2014-09-26|305000.0|2       |1    |False       |76.18046    |False    |False    |True             |1             |False       |True        |9    |2            |\n",
            "|2014-05-14|498000.0|3       |2    |True        |210.88981   |False    |False    |False            |2             |True        |True        |5    |2            |\n",
            "|2015-03-23|590000.0|2       |4    |False       |262.91549   |False    |False    |False            |2             |True        |False       |3    |2            |\n",
            "|2014-07-15|775000.0|3       |3    |False       |159.79316   |False    |False    |False            |1             |True        |False       |7    |3            |\n",
            "|2015-04-14|350000.0|2       |1    |False       |92.903      |False    |False    |False            |1             |True        |True        |4    |3            |\n",
            "|2015-05-08|399000.0|2       |2    |False       |201.59951   |False    |False    |False            |1             |True        |True        |5    |1            |\n",
            "|2014-10-15|325000.0|1       |2    |False       |94.76106    |False    |False    |False            |1             |True        |False       |10   |3            |\n",
            "|2014-07-15|250000.0|3       |2    |True        |177.44473   |False    |False    |False            |2             |True        |True        |7    |1            |\n",
            "|2015-02-25|445000.0|3       |2    |False       |360.46364   |False    |False    |False            |3             |False       |False       |2    |2            |\n",
            "|2014-07-01|459500.0|1       |2    |True        |116.12875   |False    |False    |False            |1             |False       |True        |7    |3            |\n",
            "|2015-03-25|292500.0|2       |2    |False       |194.631785  |False    |False    |False            |2             |True        |False       |3    |1            |\n",
            "|2015-04-24|172500.0|1       |1    |True        |140.28353   |False    |False    |False            |2             |False       |True        |4    |2            |\n",
            "|2014-05-14|372977.0|2       |3    |True        |157.00607   |False    |False    |False            |2             |True        |False       |5    |3            |\n",
            "|2014-08-29|452000.0|1       |1    |True        |113.34166   |False    |False    |False            |1             |False       |True        |8    |2            |\n",
            "|2014-10-09|500000.0|2       |3    |True        |160.72219   |False    |False    |False            |2             |True        |True        |10   |4            |\n",
            "|2015-01-19|250000.0|3       |2    |True        |203.45757   |False    |True     |False            |1             |True        |True        |1    |1            |\n",
            "|2014-08-19|790000.0|3       |3    |True        |208.10272   |False    |False    |True             |2             |True        |True        |8    |4            |\n",
            "|2014-06-06|160000.0|2       |1    |False       |112.41263   |True     |False    |False            |1             |False       |True        |6    |3            |\n",
            "|2014-10-06|529950.0|1       |3    |True        |139.3545    |False    |False    |False            |2             |True        |False       |10   |3            |\n",
            "|2014-09-18|248000.0|2       |2    |True        |136.56741   |False    |False    |False            |1             |False       |True        |9    |1            |\n",
            "+----------+--------+--------+-----+------------+------------+---------+---------+-----------------+--------------+------------+------------+-----+-------------+\n",
            "only showing top 20 rows\n",
            "\n"
          ]
        }
      ]
    },
    {
      "cell_type": "code",
      "source": [
        "# prompt: Criar coluna ID\n",
        "\n",
        "from pyspark.sql.functions import monotonically_increasing_id\n",
        "\n",
        "dados = dados.withColumn(\"ID\", monotonically_increasing_id())\n",
        "\n",
        "dados.show(truncate = False)"
      ],
      "metadata": {
        "colab": {
          "base_uri": "https://localhost:8080/"
        },
        "id": "MHnHcdvLH9_R",
        "outputId": "d2f92c54-e5ab-4df8-ab33-2594ebcb0c3d"
      },
      "execution_count": null,
      "outputs": [
        {
          "output_type": "stream",
          "name": "stdout",
          "text": [
            "+----------+--------+--------+-----+------------+------------+---------+---------+-----------------+--------------+------------+------------+-----+-------------+---+\n",
            "|date      |price   |bedrooms|grade|has_basement|living_in_m2|renovated|nice_view|perfect_condition|real_bathrooms|has_lavatory|single_floor|month|quartile_zone|ID |\n",
            "+----------+--------+--------+-----+------------+------------+---------+---------+-----------------+--------------+------------+------------+-----+-------------+---+\n",
            "|2014-09-26|305000.0|2       |1    |False       |76.18046    |False    |False    |True             |1             |False       |True        |9    |2            |0  |\n",
            "|2014-05-14|498000.0|3       |2    |True        |210.88981   |False    |False    |False            |2             |True        |True        |5    |2            |1  |\n",
            "|2015-03-23|590000.0|2       |4    |False       |262.91549   |False    |False    |False            |2             |True        |False       |3    |2            |2  |\n",
            "|2014-07-15|775000.0|3       |3    |False       |159.79316   |False    |False    |False            |1             |True        |False       |7    |3            |3  |\n",
            "|2015-04-14|350000.0|2       |1    |False       |92.903      |False    |False    |False            |1             |True        |True        |4    |3            |4  |\n",
            "|2015-05-08|399000.0|2       |2    |False       |201.59951   |False    |False    |False            |1             |True        |True        |5    |1            |5  |\n",
            "|2014-10-15|325000.0|1       |2    |False       |94.76106    |False    |False    |False            |1             |True        |False       |10   |3            |6  |\n",
            "|2014-07-15|250000.0|3       |2    |True        |177.44473   |False    |False    |False            |2             |True        |True        |7    |1            |7  |\n",
            "|2015-02-25|445000.0|3       |2    |False       |360.46364   |False    |False    |False            |3             |False       |False       |2    |2            |8  |\n",
            "|2014-07-01|459500.0|1       |2    |True        |116.12875   |False    |False    |False            |1             |False       |True        |7    |3            |9  |\n",
            "|2015-03-25|292500.0|2       |2    |False       |194.631785  |False    |False    |False            |2             |True        |False       |3    |1            |10 |\n",
            "|2015-04-24|172500.0|1       |1    |True        |140.28353   |False    |False    |False            |2             |False       |True        |4    |2            |11 |\n",
            "|2014-05-14|372977.0|2       |3    |True        |157.00607   |False    |False    |False            |2             |True        |False       |5    |3            |12 |\n",
            "|2014-08-29|452000.0|1       |1    |True        |113.34166   |False    |False    |False            |1             |False       |True        |8    |2            |13 |\n",
            "|2014-10-09|500000.0|2       |3    |True        |160.72219   |False    |False    |False            |2             |True        |True        |10   |4            |14 |\n",
            "|2015-01-19|250000.0|3       |2    |True        |203.45757   |False    |True     |False            |1             |True        |True        |1    |1            |15 |\n",
            "|2014-08-19|790000.0|3       |3    |True        |208.10272   |False    |False    |True             |2             |True        |True        |8    |4            |16 |\n",
            "|2014-06-06|160000.0|2       |1    |False       |112.41263   |True     |False    |False            |1             |False       |True        |6    |3            |17 |\n",
            "|2014-10-06|529950.0|1       |3    |True        |139.3545    |False    |False    |False            |2             |True        |False       |10   |3            |18 |\n",
            "|2014-09-18|248000.0|2       |2    |True        |136.56741   |False    |False    |False            |1             |False       |True        |9    |1            |19 |\n",
            "+----------+--------+--------+-----+------------+------------+---------+---------+-----------------+--------------+------------+------------+-----+-------------+---+\n",
            "only showing top 20 rows\n",
            "\n"
          ]
        }
      ]
    },
    {
      "cell_type": "markdown",
      "source": [
        "Seleção de Features"
      ],
      "metadata": {
        "id": "oGNW4DbCSXsq"
      }
    },
    {
      "cell_type": "code",
      "source": [
        "dataset = dados\\\n",
        ".select(\"ID\", \"bedrooms\", \"grade\", \"has_basement\", \"living_in_m2\", \"renovated\", \"nice_view\", \"perfect_condition\", \"real_bathrooms\", \"has_lavatory\", \"single_floor\", \"month\", \"quartile_zone\", \"price\")\\\n",
        ".drop(\"date\")"
      ],
      "metadata": {
        "id": "a11SQfb3Saxc"
      },
      "execution_count": null,
      "outputs": []
    },
    {
      "cell_type": "code",
      "source": [
        "dataset.show()"
      ],
      "metadata": {
        "colab": {
          "base_uri": "https://localhost:8080/"
        },
        "id": "LekW_QndYacO",
        "outputId": "fe3cfd99-39d1-4ab7-bcf0-e77bc7c50334"
      },
      "execution_count": null,
      "outputs": [
        {
          "output_type": "stream",
          "name": "stdout",
          "text": [
            "+---+--------+-----+------------+------------+---------+---------+-----------------+--------------+------------+------------+-----+-------------+--------+\n",
            "| ID|bedrooms|grade|has_basement|living_in_m2|renovated|nice_view|perfect_condition|real_bathrooms|has_lavatory|single_floor|month|quartile_zone|   price|\n",
            "+---+--------+-----+------------+------------+---------+---------+-----------------+--------------+------------+------------+-----+-------------+--------+\n",
            "|  0|       2|    1|       False|    76.18046|    False|    False|             True|             1|       False|        True|    9|            2|305000.0|\n",
            "|  1|       3|    2|        True|   210.88981|    False|    False|            False|             2|        True|        True|    5|            2|498000.0|\n",
            "|  2|       2|    4|       False|   262.91549|    False|    False|            False|             2|        True|       False|    3|            2|590000.0|\n",
            "|  3|       3|    3|       False|   159.79316|    False|    False|            False|             1|        True|       False|    7|            3|775000.0|\n",
            "|  4|       2|    1|       False|      92.903|    False|    False|            False|             1|        True|        True|    4|            3|350000.0|\n",
            "|  5|       2|    2|       False|   201.59951|    False|    False|            False|             1|        True|        True|    5|            1|399000.0|\n",
            "|  6|       1|    2|       False|    94.76106|    False|    False|            False|             1|        True|       False|   10|            3|325000.0|\n",
            "|  7|       3|    2|        True|   177.44473|    False|    False|            False|             2|        True|        True|    7|            1|250000.0|\n",
            "|  8|       3|    2|       False|   360.46364|    False|    False|            False|             3|       False|       False|    2|            2|445000.0|\n",
            "|  9|       1|    2|        True|   116.12875|    False|    False|            False|             1|       False|        True|    7|            3|459500.0|\n",
            "| 10|       2|    2|       False|  194.631785|    False|    False|            False|             2|        True|       False|    3|            1|292500.0|\n",
            "| 11|       1|    1|        True|   140.28353|    False|    False|            False|             2|       False|        True|    4|            2|172500.0|\n",
            "| 12|       2|    3|        True|   157.00607|    False|    False|            False|             2|        True|       False|    5|            3|372977.0|\n",
            "| 13|       1|    1|        True|   113.34166|    False|    False|            False|             1|       False|        True|    8|            2|452000.0|\n",
            "| 14|       2|    3|        True|   160.72219|    False|    False|            False|             2|        True|        True|   10|            4|500000.0|\n",
            "| 15|       3|    2|        True|   203.45757|    False|     True|            False|             1|        True|        True|    1|            1|250000.0|\n",
            "| 16|       3|    3|        True|   208.10272|    False|    False|             True|             2|        True|        True|    8|            4|790000.0|\n",
            "| 17|       2|    1|       False|   112.41263|     True|    False|            False|             1|       False|        True|    6|            3|160000.0|\n",
            "| 18|       1|    3|        True|    139.3545|    False|    False|            False|             2|        True|       False|   10|            3|529950.0|\n",
            "| 19|       2|    2|        True|   136.56741|    False|    False|            False|             1|       False|        True|    9|            1|248000.0|\n",
            "+---+--------+-----+------------+------------+---------+---------+-----------------+--------------+------------+------------+-----+-------------+--------+\n",
            "only showing top 20 rows\n",
            "\n"
          ]
        }
      ]
    },
    {
      "cell_type": "code",
      "source": [
        "dataset.count()"
      ],
      "metadata": {
        "colab": {
          "base_uri": "https://localhost:8080/"
        },
        "id": "BWqAK-tmCHi4",
        "outputId": "b00d0031-b155-417b-973b-43554a619d59"
      },
      "execution_count": null,
      "outputs": [
        {
          "output_type": "execute_result",
          "data": {
            "text/plain": [
              "6700"
            ]
          },
          "metadata": {},
          "execution_count": 232
        }
      ]
    },
    {
      "cell_type": "markdown",
      "source": [
        "Tratamento de Dados"
      ],
      "metadata": {
        "id": "RqcSmHgIn1Yw"
      }
    },
    {
      "cell_type": "code",
      "source": [
        "dataset.printSchema()"
      ],
      "metadata": {
        "colab": {
          "base_uri": "https://localhost:8080/"
        },
        "id": "pLPqKvuvpIAn",
        "outputId": "394463c6-c323-48ff-8efd-2f9a32588a72"
      },
      "execution_count": null,
      "outputs": [
        {
          "output_type": "stream",
          "name": "stdout",
          "text": [
            "root\n",
            " |-- ID: long (nullable = false)\n",
            " |-- bedrooms: string (nullable = true)\n",
            " |-- grade: string (nullable = true)\n",
            " |-- has_basement: string (nullable = true)\n",
            " |-- living_in_m2: string (nullable = true)\n",
            " |-- renovated: string (nullable = true)\n",
            " |-- nice_view: string (nullable = true)\n",
            " |-- perfect_condition: string (nullable = true)\n",
            " |-- real_bathrooms: string (nullable = true)\n",
            " |-- has_lavatory: string (nullable = true)\n",
            " |-- single_floor: string (nullable = true)\n",
            " |-- month: string (nullable = true)\n",
            " |-- quartile_zone: string (nullable = true)\n",
            " |-- price: string (nullable = true)\n",
            "\n"
          ]
        }
      ]
    },
    {
      "cell_type": "code",
      "source": [
        "from pyspark.sql.types import IntegerType, DoubleType, LongType, BooleanType"
      ],
      "metadata": {
        "id": "3OK4CuSHprD1"
      },
      "execution_count": null,
      "outputs": []
    },
    {
      "cell_type": "code",
      "source": [
        "dataset\\\n",
        "  .withColumn('grade', dataset['grade'].cast(IntegerType()))\\\n",
        "  .withColumn('bedrooms', dataset['bedrooms'].cast(IntegerType()))\\\n",
        "  .withColumn('has_basement', dataset['has_basement'].cast(BooleanType()))\\\n",
        "  .withColumn('living_in_m2', dataset['living_in_m2'].cast(DoubleType()))\\\n",
        "  .withColumn('renovated', dataset['renovated'].cast(BooleanType()))\\\n",
        "  .withColumn('nice_view', dataset['nice_view'].cast(BooleanType()))\\\n",
        "  .withColumn('perfect_condition', dataset['perfect_condition'].cast(BooleanType()))\\\n",
        "  .withColumn('real_bathrooms', dataset['real_bathrooms'].cast(IntegerType()))\\\n",
        "  .withColumn('has_lavatory', dataset['has_lavatory'].cast(BooleanType()))\\\n",
        "  .withColumn('single_floor', dataset['single_floor'].cast( BooleanType()))\\\n",
        "  .withColumn('month', dataset['month'].cast(IntegerType()))\\\n",
        "  .withColumn('quartile_zone', dataset['quartile_zone'].cast(IntegerType()))\\\n",
        "  .withColumn('price', dataset['price'].cast(LongType()))\\\n",
        "  .printSchema()"
      ],
      "metadata": {
        "colab": {
          "base_uri": "https://localhost:8080/"
        },
        "id": "zqXQV5ZizDVW",
        "outputId": "39076305-e0ca-4c61-e231-ce27c4d72b54"
      },
      "execution_count": null,
      "outputs": [
        {
          "output_type": "stream",
          "name": "stdout",
          "text": [
            "root\n",
            " |-- ID: long (nullable = false)\n",
            " |-- bedrooms: integer (nullable = true)\n",
            " |-- grade: integer (nullable = true)\n",
            " |-- has_basement: boolean (nullable = true)\n",
            " |-- living_in_m2: double (nullable = true)\n",
            " |-- renovated: boolean (nullable = true)\n",
            " |-- nice_view: boolean (nullable = true)\n",
            " |-- perfect_condition: boolean (nullable = true)\n",
            " |-- real_bathrooms: integer (nullable = true)\n",
            " |-- has_lavatory: boolean (nullable = true)\n",
            " |-- single_floor: boolean (nullable = true)\n",
            " |-- month: integer (nullable = true)\n",
            " |-- quartile_zone: integer (nullable = true)\n",
            " |-- price: long (nullable = true)\n",
            "\n"
          ]
        }
      ]
    },
    {
      "cell_type": "code",
      "source": [
        "dataset = dataset\\\n",
        "  .withColumn('grade', dataset['grade'].cast(IntegerType()))\\\n",
        "  .withColumn('bedrooms', dataset['bedrooms'].cast(IntegerType()))\\\n",
        "  .withColumn('has_basement', dataset['has_basement'].cast(BooleanType()))\\\n",
        "  .withColumn('living_in_m2', dataset['living_in_m2'].cast(DoubleType()))\\\n",
        "  .withColumn('renovated', dataset['renovated'].cast(BooleanType()))\\\n",
        "  .withColumn('nice_view', dataset['nice_view'].cast(BooleanType()))\\\n",
        "  .withColumn('perfect_condition', dataset['perfect_condition'].cast(BooleanType()))\\\n",
        "  .withColumn('real_bathrooms', dataset['real_bathrooms'].cast(IntegerType()))\\\n",
        "  .withColumn('has_lavatory', dataset['has_lavatory'].cast(BooleanType()))\\\n",
        "  .withColumn('single_floor', dataset['single_floor'].cast( BooleanType()))\\\n",
        "  .withColumn('month', dataset['month'].cast(IntegerType()))\\\n",
        "  .withColumn('quartile_zone', dataset['quartile_zone'].cast(IntegerType()))\\\n",
        "  .withColumn('price', dataset['price'].cast(LongType()))"
      ],
      "metadata": {
        "id": "7TqywcIxzo9R"
      },
      "execution_count": null,
      "outputs": []
    },
    {
      "cell_type": "code",
      "source": [
        "dataset.show()"
      ],
      "metadata": {
        "colab": {
          "base_uri": "https://localhost:8080/"
        },
        "id": "NpmdEfEpgh-W",
        "outputId": "f6501fe0-b6de-49f3-b1a1-b4c4fec8fd4a"
      },
      "execution_count": null,
      "outputs": [
        {
          "output_type": "stream",
          "name": "stdout",
          "text": [
            "+---+--------+-----+------------+------------+---------+---------+-----------------+--------------+------------+------------+-----+-------------+------+\n",
            "| ID|bedrooms|grade|has_basement|living_in_m2|renovated|nice_view|perfect_condition|real_bathrooms|has_lavatory|single_floor|month|quartile_zone| price|\n",
            "+---+--------+-----+------------+------------+---------+---------+-----------------+--------------+------------+------------+-----+-------------+------+\n",
            "|  0|       2|    1|       false|    76.18046|    false|    false|             true|             1|       false|        true|    9|            2|305000|\n",
            "|  1|       3|    2|        true|   210.88981|    false|    false|            false|             2|        true|        true|    5|            2|498000|\n",
            "|  2|       2|    4|       false|   262.91549|    false|    false|            false|             2|        true|       false|    3|            2|590000|\n",
            "|  3|       3|    3|       false|   159.79316|    false|    false|            false|             1|        true|       false|    7|            3|775000|\n",
            "|  4|       2|    1|       false|      92.903|    false|    false|            false|             1|        true|        true|    4|            3|350000|\n",
            "|  5|       2|    2|       false|   201.59951|    false|    false|            false|             1|        true|        true|    5|            1|399000|\n",
            "|  6|       1|    2|       false|    94.76106|    false|    false|            false|             1|        true|       false|   10|            3|325000|\n",
            "|  7|       3|    2|        true|   177.44473|    false|    false|            false|             2|        true|        true|    7|            1|250000|\n",
            "|  8|       3|    2|       false|   360.46364|    false|    false|            false|             3|       false|       false|    2|            2|445000|\n",
            "|  9|       1|    2|        true|   116.12875|    false|    false|            false|             1|       false|        true|    7|            3|459500|\n",
            "| 10|       2|    2|       false|  194.631785|    false|    false|            false|             2|        true|       false|    3|            1|292500|\n",
            "| 11|       1|    1|        true|   140.28353|    false|    false|            false|             2|       false|        true|    4|            2|172500|\n",
            "| 12|       2|    3|        true|   157.00607|    false|    false|            false|             2|        true|       false|    5|            3|372977|\n",
            "| 13|       1|    1|        true|   113.34166|    false|    false|            false|             1|       false|        true|    8|            2|452000|\n",
            "| 14|       2|    3|        true|   160.72219|    false|    false|            false|             2|        true|        true|   10|            4|500000|\n",
            "| 15|       3|    2|        true|   203.45757|    false|     true|            false|             1|        true|        true|    1|            1|250000|\n",
            "| 16|       3|    3|        true|   208.10272|    false|    false|             true|             2|        true|        true|    8|            4|790000|\n",
            "| 17|       2|    1|       false|   112.41263|     true|    false|            false|             1|       false|        true|    6|            3|160000|\n",
            "| 18|       1|    3|        true|    139.3545|    false|    false|            false|             2|        true|       false|   10|            3|529950|\n",
            "| 19|       2|    2|        true|   136.56741|    false|    false|            false|             1|       false|        true|    9|            1|248000|\n",
            "+---+--------+-----+------------+------------+---------+---------+-----------------+--------------+------------+------------+-----+-------------+------+\n",
            "only showing top 20 rows\n",
            "\n"
          ]
        }
      ]
    },
    {
      "cell_type": "code",
      "source": [
        "dataset\\\n",
        ".select('bedrooms')\\\n",
        ".groupby('bedrooms')\\\n",
        ".count()\\\n",
        ".show()"
      ],
      "metadata": {
        "colab": {
          "base_uri": "https://localhost:8080/"
        },
        "id": "yWXYlXkDNnt6",
        "outputId": "164cc1aa-fcfb-44cc-be06-eea3579f298c"
      },
      "execution_count": null,
      "outputs": [
        {
          "output_type": "stream",
          "name": "stdout",
          "text": [
            "+--------+-----+\n",
            "|bedrooms|count|\n",
            "+--------+-----+\n",
            "|       1|  995|\n",
            "|       3| 2606|\n",
            "|       2| 3099|\n",
            "+--------+-----+\n",
            "\n"
          ]
        }
      ]
    },
    {
      "cell_type": "code",
      "source": [
        "dataset\\\n",
        ".select('grade')\\\n",
        ".groupby('grade')\\\n",
        ".count()\\\n",
        ".show()"
      ],
      "metadata": {
        "colab": {
          "base_uri": "https://localhost:8080/"
        },
        "id": "Wy_6OBsgrIXV",
        "outputId": "013224d7-6a91-4bdf-e7e4-36d006ad24ff"
      },
      "execution_count": null,
      "outputs": [
        {
          "output_type": "stream",
          "name": "stdout",
          "text": [
            "+-----+-----+\n",
            "|grade|count|\n",
            "+-----+-----+\n",
            "|    1|  791|\n",
            "|    3| 1993|\n",
            "|    5|  266|\n",
            "|    4|  734|\n",
            "|    2| 2916|\n",
            "+-----+-----+\n",
            "\n"
          ]
        }
      ]
    },
    {
      "cell_type": "code",
      "source": [
        "dataset\\\n",
        ".select('has_basement')\\\n",
        ".groupby('has_basement')\\\n",
        ".count()\\\n",
        ".show()"
      ],
      "metadata": {
        "colab": {
          "base_uri": "https://localhost:8080/"
        },
        "id": "qf6kjdKO4X9M",
        "outputId": "81fe6be9-4654-48e4-d3ed-e488f5ec1298"
      },
      "execution_count": null,
      "outputs": [
        {
          "output_type": "stream",
          "name": "stdout",
          "text": [
            "+------------+-----+\n",
            "|has_basement|count|\n",
            "+------------+-----+\n",
            "|        true| 2544|\n",
            "|       false| 4156|\n",
            "+------------+-----+\n",
            "\n"
          ]
        }
      ]
    },
    {
      "cell_type": "code",
      "source": [
        "dataset\\\n",
        ".select('renovated')\\\n",
        ".groupby('renovated')\\\n",
        ".count()\\\n",
        ".show()"
      ],
      "metadata": {
        "colab": {
          "base_uri": "https://localhost:8080/"
        },
        "id": "tU0YM9BJRBcw",
        "outputId": "ca764590-5e19-4870-8deb-ffec1030229e"
      },
      "execution_count": null,
      "outputs": [
        {
          "output_type": "stream",
          "name": "stdout",
          "text": [
            "+---------+-----+\n",
            "|renovated|count|\n",
            "+---------+-----+\n",
            "|     true|  232|\n",
            "|    false| 6468|\n",
            "+---------+-----+\n",
            "\n"
          ]
        }
      ]
    },
    {
      "cell_type": "code",
      "source": [
        "dataset\\\n",
        ".select('nice_view')\\\n",
        ".groupby('nice_view')\\\n",
        ".count()\\\n",
        ".show()"
      ],
      "metadata": {
        "colab": {
          "base_uri": "https://localhost:8080/"
        },
        "id": "4FN4jqfvSinD",
        "outputId": "f71bde70-aaa4-4e22-c47c-610fd4dc518f"
      },
      "execution_count": null,
      "outputs": [
        {
          "output_type": "stream",
          "name": "stdout",
          "text": [
            "+---------+-----+\n",
            "|nice_view|count|\n",
            "+---------+-----+\n",
            "|     true|  509|\n",
            "|    false| 6191|\n",
            "+---------+-----+\n",
            "\n"
          ]
        }
      ]
    },
    {
      "cell_type": "code",
      "source": [
        "dataset\\\n",
        ".select('perfect_condition')\\\n",
        ".groupby('perfect_condition')\\\n",
        ".count()\\\n",
        ".show()"
      ],
      "metadata": {
        "colab": {
          "base_uri": "https://localhost:8080/"
        },
        "id": "ccxdH-5-hvCF",
        "outputId": "090768a7-c7eb-4ac1-c4a4-541656e71495"
      },
      "execution_count": null,
      "outputs": [
        {
          "output_type": "stream",
          "name": "stdout",
          "text": [
            "+-----------------+-----+\n",
            "|perfect_condition|count|\n",
            "+-----------------+-----+\n",
            "|             true|  543|\n",
            "|            false| 6157|\n",
            "+-----------------+-----+\n",
            "\n"
          ]
        }
      ]
    },
    {
      "cell_type": "code",
      "source": [
        "dataset\\\n",
        ".select('real_bathrooms')\\\n",
        ".groupby('real_bathrooms')\\\n",
        ".count()\\\n",
        ".show()"
      ],
      "metadata": {
        "colab": {
          "base_uri": "https://localhost:8080/"
        },
        "id": "OBkrMIuMPpgN",
        "outputId": "6c4fcd50-7115-4def-9223-b4c2ef058bbe"
      },
      "execution_count": null,
      "outputs": [
        {
          "output_type": "stream",
          "name": "stdout",
          "text": [
            "+--------------+-----+\n",
            "|real_bathrooms|count|\n",
            "+--------------+-----+\n",
            "|             1| 2815|\n",
            "|             3|  571|\n",
            "|             2| 3314|\n",
            "+--------------+-----+\n",
            "\n"
          ]
        }
      ]
    },
    {
      "cell_type": "code",
      "source": [
        "dataset\\\n",
        ".select('has_lavatory')\\\n",
        ".groupby('has_lavatory')\\\n",
        ".count()\\\n",
        ".show()"
      ],
      "metadata": {
        "colab": {
          "base_uri": "https://localhost:8080/"
        },
        "id": "ZHZgDmXEiDJ9",
        "outputId": "0565d462-de7c-4339-8ef3-d27673e70868"
      },
      "execution_count": null,
      "outputs": [
        {
          "output_type": "stream",
          "name": "stdout",
          "text": [
            "+------------+-----+\n",
            "|has_lavatory|count|\n",
            "+------------+-----+\n",
            "|        true| 4564|\n",
            "|       false| 2136|\n",
            "+------------+-----+\n",
            "\n"
          ]
        }
      ]
    },
    {
      "cell_type": "code",
      "source": [
        "dataset\\\n",
        ".select('month')\\\n",
        ".groupby('month')\\\n",
        ".count()\\\n",
        ".show()"
      ],
      "metadata": {
        "colab": {
          "base_uri": "https://localhost:8080/"
        },
        "id": "0E4Jpr0XiNEK",
        "outputId": "f6d52958-03d2-4924-860f-0bcb3fac13b0"
      },
      "execution_count": null,
      "outputs": [
        {
          "output_type": "stream",
          "name": "stdout",
          "text": [
            "+-----+-----+\n",
            "|month|count|\n",
            "+-----+-----+\n",
            "|   12|  446|\n",
            "|    1|  308|\n",
            "|    6|  700|\n",
            "|    3|  554|\n",
            "|    5|  744|\n",
            "|    9|  533|\n",
            "|    4|  700|\n",
            "|    8|  623|\n",
            "|    7|  699|\n",
            "|   10|  569|\n",
            "|   11|  442|\n",
            "|    2|  382|\n",
            "+-----+-----+\n",
            "\n"
          ]
        }
      ]
    },
    {
      "cell_type": "code",
      "source": [
        "dataset\\\n",
        ".select('quartile_zone')\\\n",
        ".groupby('quartile_zone')\\\n",
        ".count()\\\n",
        ".show()"
      ],
      "metadata": {
        "colab": {
          "base_uri": "https://localhost:8080/"
        },
        "id": "JBDwZlhatt9P",
        "outputId": "0cf1a7d2-ff24-4e3f-eba3-cbce2d1c3cb6"
      },
      "execution_count": null,
      "outputs": [
        {
          "output_type": "stream",
          "name": "stdout",
          "text": [
            "+-------------+-----+\n",
            "|quartile_zone|count|\n",
            "+-------------+-----+\n",
            "|            1| 1642|\n",
            "|            3| 1724|\n",
            "|            4| 1380|\n",
            "|            2| 1954|\n",
            "+-------------+-----+\n",
            "\n"
          ]
        }
      ]
    },
    {
      "cell_type": "markdown",
      "source": [
        "Tratamento para dados faltantes"
      ],
      "metadata": {
        "id": "-GygqdGWjahK"
      }
    },
    {
      "cell_type": "code",
      "source": [
        "from pyspark.sql import functions as f"
      ],
      "metadata": {
        "id": "QYbCyfSajYHo"
      },
      "execution_count": null,
      "outputs": []
    },
    {
      "cell_type": "code",
      "source": [
        "dataset.show()"
      ],
      "metadata": {
        "colab": {
          "base_uri": "https://localhost:8080/"
        },
        "id": "zL3Z389Ij2bT",
        "outputId": "a2dab08d-a13e-41e4-d99d-95d6a5ddab7c"
      },
      "execution_count": null,
      "outputs": [
        {
          "output_type": "stream",
          "name": "stdout",
          "text": [
            "+---+--------+-----+------------+------------+---------+---------+-----------------+--------------+------------+------------+-----+-------------+------+\n",
            "| ID|bedrooms|grade|has_basement|living_in_m2|renovated|nice_view|perfect_condition|real_bathrooms|has_lavatory|single_floor|month|quartile_zone| price|\n",
            "+---+--------+-----+------------+------------+---------+---------+-----------------+--------------+------------+------------+-----+-------------+------+\n",
            "|  0|       2|    1|       false|    76.18046|    false|    false|             true|             1|       false|        true|    9|            2|305000|\n",
            "|  1|       3|    2|        true|   210.88981|    false|    false|            false|             2|        true|        true|    5|            2|498000|\n",
            "|  2|       2|    4|       false|   262.91549|    false|    false|            false|             2|        true|       false|    3|            2|590000|\n",
            "|  3|       3|    3|       false|   159.79316|    false|    false|            false|             1|        true|       false|    7|            3|775000|\n",
            "|  4|       2|    1|       false|      92.903|    false|    false|            false|             1|        true|        true|    4|            3|350000|\n",
            "|  5|       2|    2|       false|   201.59951|    false|    false|            false|             1|        true|        true|    5|            1|399000|\n",
            "|  6|       1|    2|       false|    94.76106|    false|    false|            false|             1|        true|       false|   10|            3|325000|\n",
            "|  7|       3|    2|        true|   177.44473|    false|    false|            false|             2|        true|        true|    7|            1|250000|\n",
            "|  8|       3|    2|       false|   360.46364|    false|    false|            false|             3|       false|       false|    2|            2|445000|\n",
            "|  9|       1|    2|        true|   116.12875|    false|    false|            false|             1|       false|        true|    7|            3|459500|\n",
            "| 10|       2|    2|       false|  194.631785|    false|    false|            false|             2|        true|       false|    3|            1|292500|\n",
            "| 11|       1|    1|        true|   140.28353|    false|    false|            false|             2|       false|        true|    4|            2|172500|\n",
            "| 12|       2|    3|        true|   157.00607|    false|    false|            false|             2|        true|       false|    5|            3|372977|\n",
            "| 13|       1|    1|        true|   113.34166|    false|    false|            false|             1|       false|        true|    8|            2|452000|\n",
            "| 14|       2|    3|        true|   160.72219|    false|    false|            false|             2|        true|        true|   10|            4|500000|\n",
            "| 15|       3|    2|        true|   203.45757|    false|     true|            false|             1|        true|        true|    1|            1|250000|\n",
            "| 16|       3|    3|        true|   208.10272|    false|    false|             true|             2|        true|        true|    8|            4|790000|\n",
            "| 17|       2|    1|       false|   112.41263|     true|    false|            false|             1|       false|        true|    6|            3|160000|\n",
            "| 18|       1|    3|        true|    139.3545|    false|    false|            false|             2|        true|       false|   10|            3|529950|\n",
            "| 19|       2|    2|        true|   136.56741|    false|    false|            false|             1|       false|        true|    9|            1|248000|\n",
            "+---+--------+-----+------------+------------+---------+---------+-----------------+--------------+------------+------------+-----+-------------+------+\n",
            "only showing top 20 rows\n",
            "\n"
          ]
        }
      ]
    },
    {
      "cell_type": "markdown",
      "source": [
        "Contagem de valores faltantes"
      ],
      "metadata": {
        "id": "I3eUmQuckSeJ"
      }
    },
    {
      "cell_type": "code",
      "source": [
        "from pyspark.sql import functions as f\n",
        "from pyspark.sql import types # Import the types module\n",
        "\n",
        "dataset\\\n",
        ".select([f.count(f.when((f.col(c).cast(\"double\").isNull()) | (f.isnan(f.col(c).cast(\"double\"))), True)).alias(c) if dataset.schema[c].dataType in [types.DoubleType(), types.FloatType()]\n",
        "         else f.count(f.when(f.col(c).isNull(), True)).alias(c)\n",
        "         for c in dataset.columns])\\\n",
        ".show()"
      ],
      "metadata": {
        "colab": {
          "base_uri": "https://localhost:8080/"
        },
        "id": "SHgCMMbUl5ar",
        "outputId": "049cdb6b-e6bf-4a95-94cd-1c93038abc5e"
      },
      "execution_count": null,
      "outputs": [
        {
          "output_type": "stream",
          "name": "stdout",
          "text": [
            "+---+--------+-----+------------+------------+---------+---------+-----------------+--------------+------------+------------+-----+-------------+-----+\n",
            "| ID|bedrooms|grade|has_basement|living_in_m2|renovated|nice_view|perfect_condition|real_bathrooms|has_lavatory|single_floor|month|quartile_zone|price|\n",
            "+---+--------+-----+------------+------------+---------+---------+-----------------+--------------+------------+------------+-----+-------------+-----+\n",
            "|  0|       0|    0|           0|           0|        0|        0|                0|             0|           0|           0|    0|            0|    0|\n",
            "+---+--------+-----+------------+------------+---------+---------+-----------------+--------------+------------+------------+-----+-------------+-----+\n",
            "\n"
          ]
        }
      ]
    },
    {
      "cell_type": "markdown",
      "source": [
        "Regressão Linear"
      ],
      "metadata": {
        "id": "jJkd-XAZDg2r"
      }
    },
    {
      "cell_type": "markdown",
      "source": [
        "Variáveis Dummy"
      ],
      "metadata": {
        "id": "l8LmIgC_FYP1"
      }
    },
    {
      "cell_type": "markdown",
      "source": [
        "Preparando dados para regressão"
      ],
      "metadata": {
        "id": "0BsCH2xtMvUp"
      }
    },
    {
      "cell_type": "code",
      "source": [
        "dataset.show()"
      ],
      "metadata": {
        "colab": {
          "base_uri": "https://localhost:8080/"
        },
        "id": "Ks0zkVpgErmD",
        "outputId": "835aab2a-25ff-48a3-b195-0d6d9052acfc"
      },
      "execution_count": null,
      "outputs": [
        {
          "output_type": "stream",
          "name": "stdout",
          "text": [
            "+---+--------+-----+------------+------------+---------+---------+-----------------+--------------+------------+------------+-----+-------------+------+\n",
            "| ID|bedrooms|grade|has_basement|living_in_m2|renovated|nice_view|perfect_condition|real_bathrooms|has_lavatory|single_floor|month|quartile_zone| price|\n",
            "+---+--------+-----+------------+------------+---------+---------+-----------------+--------------+------------+------------+-----+-------------+------+\n",
            "|  0|       2|    1|       false|    76.18046|    false|    false|             true|             1|       false|        true|    9|            2|305000|\n",
            "|  1|       3|    2|        true|   210.88981|    false|    false|            false|             2|        true|        true|    5|            2|498000|\n",
            "|  2|       2|    4|       false|   262.91549|    false|    false|            false|             2|        true|       false|    3|            2|590000|\n",
            "|  3|       3|    3|       false|   159.79316|    false|    false|            false|             1|        true|       false|    7|            3|775000|\n",
            "|  4|       2|    1|       false|      92.903|    false|    false|            false|             1|        true|        true|    4|            3|350000|\n",
            "|  5|       2|    2|       false|   201.59951|    false|    false|            false|             1|        true|        true|    5|            1|399000|\n",
            "|  6|       1|    2|       false|    94.76106|    false|    false|            false|             1|        true|       false|   10|            3|325000|\n",
            "|  7|       3|    2|        true|   177.44473|    false|    false|            false|             2|        true|        true|    7|            1|250000|\n",
            "|  8|       3|    2|       false|   360.46364|    false|    false|            false|             3|       false|       false|    2|            2|445000|\n",
            "|  9|       1|    2|        true|   116.12875|    false|    false|            false|             1|       false|        true|    7|            3|459500|\n",
            "| 10|       2|    2|       false|  194.631785|    false|    false|            false|             2|        true|       false|    3|            1|292500|\n",
            "| 11|       1|    1|        true|   140.28353|    false|    false|            false|             2|       false|        true|    4|            2|172500|\n",
            "| 12|       2|    3|        true|   157.00607|    false|    false|            false|             2|        true|       false|    5|            3|372977|\n",
            "| 13|       1|    1|        true|   113.34166|    false|    false|            false|             1|       false|        true|    8|            2|452000|\n",
            "| 14|       2|    3|        true|   160.72219|    false|    false|            false|             2|        true|        true|   10|            4|500000|\n",
            "| 15|       3|    2|        true|   203.45757|    false|     true|            false|             1|        true|        true|    1|            1|250000|\n",
            "| 16|       3|    3|        true|   208.10272|    false|    false|             true|             2|        true|        true|    8|            4|790000|\n",
            "| 17|       2|    1|       false|   112.41263|     true|    false|            false|             1|       false|        true|    6|            3|160000|\n",
            "| 18|       1|    3|        true|    139.3545|    false|    false|            false|             2|        true|       false|   10|            3|529950|\n",
            "| 19|       2|    2|        true|   136.56741|    false|    false|            false|             1|       false|        true|    9|            1|248000|\n",
            "+---+--------+-----+------------+------------+---------+---------+-----------------+--------------+------------+------------+-----+-------------+------+\n",
            "only showing top 20 rows\n",
            "\n"
          ]
        }
      ]
    },
    {
      "cell_type": "code",
      "source": [
        "# Renomear coluna bedrooms pra 1 quarto, 2 quartos e 3 quartos\n",
        "\n",
        "from pyspark.sql.functions import when\n",
        "\n",
        "# Criar uma nova coluna com base nos valores de 'bedrooms'\n",
        "dataset = dataset.withColumn(\n",
        "    \"bedrooms_category\",\n",
        "     when(dataset[\"bedrooms\"] == 1, \"1 bedroom\")\n",
        "    .when(dataset[\"bedrooms\"] == 2, \"2 bedrooms\")\n",
        "    .when(dataset[\"bedrooms\"] == 3, \"3 bedrooms\")\n",
        "    .otherwise(\"Outros\")  # Define um valor padrão para outros números de bedrooms\n",
        ")"
      ],
      "metadata": {
        "id": "mMrTr7DJJz-A"
      },
      "execution_count": null,
      "outputs": []
    },
    {
      "cell_type": "code",
      "source": [
        "dataset = dataset.drop(\"bedrooms\")"
      ],
      "metadata": {
        "id": "hGpIFA63fbV2"
      },
      "execution_count": null,
      "outputs": []
    },
    {
      "cell_type": "code",
      "source": [
        "dataset\\\n",
        "  .groupBy(\"ID\")\\\n",
        "  .pivot(\"bedrooms_category\")\\\n",
        "  .agg(f.lit(1))\\\n",
        "  .na\\\n",
        "  .fill(0)\\\n",
        "  .show()"
      ],
      "metadata": {
        "colab": {
          "base_uri": "https://localhost:8080/"
        },
        "id": "kQR7vPZAKHhX",
        "outputId": "ad7f8748-143c-4c97-9b7e-32b474bcc7d0"
      },
      "execution_count": null,
      "outputs": [
        {
          "output_type": "stream",
          "name": "stdout",
          "text": [
            "+----+---------+----------+----------+\n",
            "|  ID|1 bedroom|2 bedrooms|3 bedrooms|\n",
            "+----+---------+----------+----------+\n",
            "|2040|        0|         1|         0|\n",
            "|1697|        0|         0|         1|\n",
            "|2509|        0|         0|         1|\n",
            "|1950|        0|         0|         1|\n",
            "|5556|        0|         0|         1|\n",
            "|4894|        0|         0|         1|\n",
            "| 474|        0|         0|         1|\n",
            "|3764|        0|         1|         0|\n",
            "|2214|        0|         1|         0|\n",
            "|2250|        1|         0|         0|\n",
            "|  26|        0|         0|         1|\n",
            "|4590|        0|         1|         0|\n",
            "|5409|        0|         1|         0|\n",
            "|4823|        0|         0|         1|\n",
            "| 964|        0|         1|         0|\n",
            "|3506|        0|         0|         1|\n",
            "|5385|        0|         0|         1|\n",
            "|2529|        0|         1|         0|\n",
            "|1806|        0|         1|         0|\n",
            "|2453|        0|         1|         0|\n",
            "+----+---------+----------+----------+\n",
            "only showing top 20 rows\n",
            "\n"
          ]
        }
      ]
    },
    {
      "cell_type": "code",
      "source": [
        "bedrooms_category = dataset\\\n",
        "                    .groupBy(\"ID\")\\\n",
        "                    .pivot(\"bedrooms_category\")\\\n",
        "                    .agg(f.lit(1))\\\n",
        "                    .na\\\n",
        "                    .fill(0)"
      ],
      "metadata": {
        "id": "em5-wYRJAIIc"
      },
      "execution_count": null,
      "outputs": []
    },
    {
      "cell_type": "code",
      "source": [
        "dataset = dataset.drop(\"bedrooms_category\")"
      ],
      "metadata": {
        "id": "2DDWmqCFb7HH"
      },
      "execution_count": null,
      "outputs": []
    },
    {
      "cell_type": "code",
      "source": [
        "# Renomear coluna grade pra 1 grade, 2 grades e 3 grades\n",
        "\n",
        "from pyspark.sql.functions import when\n",
        "\n",
        "# Criar uma nova coluna com base nos valores de 'bedrooms'\n",
        "dataset = dataset.withColumn(\n",
        "    \"grades_category\",\n",
        "     when(dataset[\"grade\"] == 1, \"1 grade\")\n",
        "    .when(dataset[\"grade\"] == 2, \"2 grades\")\n",
        "    .when(dataset[\"grade\"] == 3, \"3 grades\")\n",
        "    .when(dataset[\"grade\"] == 4, \"4 grades\")\n",
        "    .when(dataset[\"grade\"] == 5, \"5 grades\")\n",
        "\n",
        "    .otherwise(\"Outros\")  # Define um valor padrão para outros números de grades\n",
        ")"
      ],
      "metadata": {
        "id": "CbdczcIrhDsI"
      },
      "execution_count": null,
      "outputs": []
    },
    {
      "cell_type": "code",
      "source": [
        "dataset = dataset.drop(\"grade\")"
      ],
      "metadata": {
        "id": "GttP-FKdcKWk"
      },
      "execution_count": null,
      "outputs": []
    },
    {
      "cell_type": "code",
      "source": [
        "dataset\\\n",
        "  .groupBy(\"ID\")\\\n",
        "  .pivot(\"grades_category\")\\\n",
        "  .agg(f.lit(1))\\\n",
        "  .na\\\n",
        "  .fill(0)\\\n",
        "  .show()"
      ],
      "metadata": {
        "colab": {
          "base_uri": "https://localhost:8080/"
        },
        "id": "-CERLfNX_vib",
        "outputId": "2236fdda-392f-4d51-a975-0a1358e202ed"
      },
      "execution_count": null,
      "outputs": [
        {
          "output_type": "stream",
          "name": "stdout",
          "text": [
            "+----+-------+--------+--------+--------+--------+\n",
            "|  ID|1 grade|2 grades|3 grades|4 grades|5 grades|\n",
            "+----+-------+--------+--------+--------+--------+\n",
            "|2509|      0|       0|       1|       0|       0|\n",
            "|5385|      0|       0|       1|       0|       0|\n",
            "| 474|      0|       0|       0|       1|       0|\n",
            "|  26|      0|       0|       0|       1|       0|\n",
            "|2040|      0|       1|       0|       0|       0|\n",
            "|2453|      0|       0|       0|       1|       0|\n",
            "|4823|      0|       0|       0|       0|       1|\n",
            "|2214|      1|       0|       0|       0|       0|\n",
            "|5409|      0|       1|       0|       0|       0|\n",
            "|5556|      0|       0|       1|       0|       0|\n",
            "| 964|      0|       1|       0|       0|       0|\n",
            "|2529|      1|       0|       0|       0|       0|\n",
            "|4894|      0|       0|       0|       0|       1|\n",
            "|  29|      0|       0|       1|       0|       0|\n",
            "|3091|      0|       1|       0|       0|       0|\n",
            "|1806|      0|       1|       0|       0|       0|\n",
            "|3506|      0|       1|       0|       0|       0|\n",
            "|2250|      1|       0|       0|       0|       0|\n",
            "|1950|      0|       0|       1|       0|       0|\n",
            "|3764|      0|       1|       0|       0|       0|\n",
            "+----+-------+--------+--------+--------+--------+\n",
            "only showing top 20 rows\n",
            "\n"
          ]
        }
      ]
    },
    {
      "cell_type": "code",
      "source": [
        "grade_category = dataset\\\n",
        "                  .groupBy(\"ID\")\\\n",
        "                  .pivot(\"grades_category\")\\\n",
        "                  .agg(f.lit(1))\\\n",
        "                  .na\\\n",
        "                  .fill(0)\n"
      ],
      "metadata": {
        "id": "HHOwuD7ACfl4"
      },
      "execution_count": null,
      "outputs": []
    },
    {
      "cell_type": "code",
      "source": [
        "dataset = dataset.drop(\"grades_category\")\n"
      ],
      "metadata": {
        "id": "mgY4kC7wecKa"
      },
      "execution_count": null,
      "outputs": []
    },
    {
      "cell_type": "code",
      "source": [
        "from pyspark.sql.functions import when\n",
        "\n",
        "dataset = dataset.withColumn(\n",
        "    \"has_basement\",\n",
        "    when(dataset[\"has_basement\"], 1).otherwise(0)\n",
        ")"
      ],
      "metadata": {
        "id": "SD7J18RTTQ2Y"
      },
      "execution_count": null,
      "outputs": []
    },
    {
      "cell_type": "code",
      "source": [
        "dataset = dataset.withColumn(\n",
        "    \"renovated\",\n",
        "    when(dataset[\"renovated\"], 1).otherwise(0)\n",
        ")"
      ],
      "metadata": {
        "id": "6j9C_1GZWwRT"
      },
      "execution_count": null,
      "outputs": []
    },
    {
      "cell_type": "code",
      "source": [
        "dataset = dataset.withColumn(\n",
        "    \"nice_view\",\n",
        "    when(dataset[\"nice_view\"], 1).otherwise(0)\n",
        ")"
      ],
      "metadata": {
        "id": "03dVwfxVYXay"
      },
      "execution_count": null,
      "outputs": []
    },
    {
      "cell_type": "code",
      "source": [
        "dataset = dataset.withColumn(\n",
        "    \"perfect_condition\",\n",
        "    when(dataset[\"perfect_condition\"], 1).otherwise(0)\n",
        ")"
      ],
      "metadata": {
        "id": "JBouRqglZH1H"
      },
      "execution_count": null,
      "outputs": []
    },
    {
      "cell_type": "code",
      "source": [
        "# Renomear coluna real_bedrooms pra 1 real bathroom, 2 real bathrooms e 3 real bathrooms\n",
        "\n",
        "from pyspark.sql.functions import when\n",
        "\n",
        "# Criar uma nova coluna com base nos valores de 'real_bedrooms'\n",
        "dataset = dataset.withColumn(\n",
        "    \"real_bathrooms_category\",\n",
        "     when(dataset[\"real_bathrooms\"] == 1, \"1 real bathroom\")\n",
        "    .when(dataset[\"real_bathrooms\"] == 2, \"2 real bathrooms\")\n",
        "    .when(dataset[\"real_bathrooms\"] == 3, \"3 real bathrooms\")\n",
        "\n",
        "    .otherwise(\"Outros\")  # Define um valor padrão para outros números de grades\n",
        ")"
      ],
      "metadata": {
        "id": "mBSDwBEnIr5Z"
      },
      "execution_count": null,
      "outputs": []
    },
    {
      "cell_type": "code",
      "source": [
        "dataset = dataset.drop(\"real_bathrooms\")"
      ],
      "metadata": {
        "id": "CeqXH8uzh5iq"
      },
      "execution_count": null,
      "outputs": []
    },
    {
      "cell_type": "code",
      "source": [
        "dataset\\\n",
        "  .groupBy(\"ID\")\\\n",
        "  .pivot(\"real_bathrooms_category\")\\\n",
        "  .agg(f.lit(1))\\\n",
        "  .na\\\n",
        "  .fill(0)\\\n",
        "  .show()"
      ],
      "metadata": {
        "colab": {
          "base_uri": "https://localhost:8080/"
        },
        "id": "4YTUAgpjHLsP",
        "outputId": "4610572a-84bf-4e69-880f-fccb13be3cfa"
      },
      "execution_count": null,
      "outputs": [
        {
          "output_type": "stream",
          "name": "stdout",
          "text": [
            "+----+---------------+----------------+----------------+\n",
            "|  ID|1 real bathroom|2 real bathrooms|3 real bathrooms|\n",
            "+----+---------------+----------------+----------------+\n",
            "|  29|              0|               1|               0|\n",
            "| 474|              0|               1|               0|\n",
            "|2453|              0|               1|               0|\n",
            "| 964|              1|               0|               0|\n",
            "|  26|              0|               1|               0|\n",
            "|1950|              0|               1|               0|\n",
            "|3506|              0|               0|               1|\n",
            "|4894|              0|               1|               0|\n",
            "|2529|              1|               0|               0|\n",
            "|1697|              0|               1|               0|\n",
            "|1806|              1|               0|               0|\n",
            "|2927|              0|               1|               0|\n",
            "|5409|              0|               1|               0|\n",
            "|5385|              0|               1|               0|\n",
            "|4823|              0|               1|               0|\n",
            "|2509|              1|               0|               0|\n",
            "|2040|              1|               0|               0|\n",
            "|2250|              1|               0|               0|\n",
            "|3764|              1|               0|               0|\n",
            "|5556|              0|               1|               0|\n",
            "+----+---------------+----------------+----------------+\n",
            "only showing top 20 rows\n",
            "\n"
          ]
        }
      ]
    },
    {
      "cell_type": "code",
      "source": [
        "real_bathrooms_category = dataset\\\n",
        "                          .groupBy(\"ID\")\\\n",
        "                          .pivot(\"real_bathrooms_category\")\\\n",
        "                          .agg(f.lit(1))\\\n",
        "                          .na\\\n",
        "                          .fill(0)"
      ],
      "metadata": {
        "id": "3Mg2Hpe5En2M"
      },
      "execution_count": null,
      "outputs": []
    },
    {
      "cell_type": "code",
      "source": [
        "dataset = dataset.drop(\"real_bathrooms_category\")"
      ],
      "metadata": {
        "id": "-hwfyHi3dGr4"
      },
      "execution_count": null,
      "outputs": []
    },
    {
      "cell_type": "code",
      "source": [
        "dataset = dataset.withColumn(\n",
        "    \"single_floor\",\n",
        "    when(dataset[\"single_floor\"], 1).otherwise(0)\n",
        ")"
      ],
      "metadata": {
        "id": "Dtag3P7xZfCC"
      },
      "execution_count": null,
      "outputs": []
    },
    {
      "cell_type": "code",
      "source": [
        "dataset = dataset.withColumn(\n",
        "    \"has_lavatory\",\n",
        "    when(dataset[\"has_lavatory\"], 1).otherwise(0)\n",
        ")"
      ],
      "metadata": {
        "id": "jF0b2mgraJwj"
      },
      "execution_count": null,
      "outputs": []
    },
    {
      "cell_type": "code",
      "source": [
        "# Renomear coluna month pra Janeiro, Fevereiro, Março, Abril, Maio, Junho,\n",
        "# Julho, Agosto, Setembro, Outubro, Novembro e Dezembro.\n",
        "\n",
        "from pyspark.sql.functions import when\n",
        "\n",
        "# Criar uma nova coluna com base nos valores de 'real_bedrooms'\n",
        "dataset = dataset.withColumn(\n",
        "    \"month_category\",\n",
        "     when(dataset[\"month\"] == 1, \"Janeiro\")\n",
        "    .when(dataset[\"month\"] == 2, \"Fevereiro\")\n",
        "    .when(dataset[\"month\"] == 3, \"Março\")\n",
        "    .when(dataset[\"month\"] == 4, \"Abril\")\n",
        "    .when(dataset[\"month\"] == 5, \"Maio\")\n",
        "    .when(dataset[\"month\"] == 6, \"Junho\")\n",
        "    .when(dataset[\"month\"] == 7, \"Julho\")\n",
        "    .when(dataset[\"month\"] == 8, \"Agosto\")\n",
        "    .when(dataset[\"month\"] == 9, \"Setembro\")\n",
        "    .when(dataset[\"month\"] == 10, \"Outubro\")\n",
        "    .when(dataset[\"month\"] == 11, \"Novembro\")\n",
        "    .when(dataset[\"month\"] == 12, \"Dezembro\")\n",
        "\n",
        "    .otherwise(\"Outros\")  # Define um valor padrão para outros números de grades\n",
        ")"
      ],
      "metadata": {
        "id": "PhbhDMELXC9X"
      },
      "execution_count": null,
      "outputs": []
    },
    {
      "cell_type": "code",
      "source": [
        "dataset = dataset.drop(\"month\")"
      ],
      "metadata": {
        "id": "9CiiEM5Dgbuq"
      },
      "execution_count": null,
      "outputs": []
    },
    {
      "cell_type": "code",
      "source": [
        "dataset\\\n",
        "  .groupBy(\"ID\")\\\n",
        "  .pivot(\"month_category\")\\\n",
        "  .agg(f.lit(1))\\\n",
        "  .na\\\n",
        "  .fill(0)\\\n",
        "  .show()"
      ],
      "metadata": {
        "colab": {
          "base_uri": "https://localhost:8080/"
        },
        "id": "yAtzS-8Ej8vr",
        "outputId": "f9a42624-38c6-43b9-d315-2ef92fc7958a"
      },
      "execution_count": null,
      "outputs": [
        {
          "output_type": "stream",
          "name": "stdout",
          "text": [
            "+----+-----+------+--------+---------+-------+-----+-----+----+-----+--------+-------+--------+\n",
            "|  ID|Abril|Agosto|Dezembro|Fevereiro|Janeiro|Julho|Junho|Maio|Março|Novembro|Outubro|Setembro|\n",
            "+----+-----+------+--------+---------+-------+-----+-----+----+-----+--------+-------+--------+\n",
            "|3506|    0|     0|       0|        0|      0|    0|    0|   0|    0|       0|      1|       0|\n",
            "|4894|    0|     0|       0|        0|      1|    0|    0|   0|    0|       0|      0|       0|\n",
            "|5385|    0|     0|       0|        0|      0|    0|    0|   1|    0|       0|      0|       0|\n",
            "|  29|    1|     0|       0|        0|      0|    0|    0|   0|    0|       0|      0|       0|\n",
            "|1806|    0|     0|       0|        0|      0|    0|    0|   1|    0|       0|      0|       0|\n",
            "|1677|    0|     1|       0|        0|      0|    0|    0|   0|    0|       0|      0|       0|\n",
            "|4823|    0|     0|       0|        0|      0|    0|    0|   1|    0|       0|      0|       0|\n",
            "|1950|    0|     1|       0|        0|      0|    0|    0|   0|    0|       0|      0|       0|\n",
            "|2529|    0|     1|       0|        0|      0|    0|    0|   0|    0|       0|      0|       0|\n",
            "|3764|    1|     0|       0|        0|      0|    0|    0|   0|    0|       0|      0|       0|\n",
            "|2040|    1|     0|       0|        0|      0|    0|    0|   0|    0|       0|      0|       0|\n",
            "|1697|    0|     0|       0|        0|      0|    0|    1|   0|    0|       0|      0|       0|\n",
            "|3091|    0|     0|       1|        0|      0|    0|    0|   0|    0|       0|      0|       0|\n",
            "|4590|    0|     0|       0|        0|      0|    1|    0|   0|    0|       0|      0|       0|\n",
            "|5556|    1|     0|       0|        0|      0|    0|    0|   0|    0|       0|      0|       0|\n",
            "| 964|    0|     0|       0|        1|      0|    0|    0|   0|    0|       0|      0|       0|\n",
            "|2509|    0|     1|       0|        0|      0|    0|    0|   0|    0|       0|      0|       0|\n",
            "|2927|    0|     0|       0|        0|      0|    1|    0|   0|    0|       0|      0|       0|\n",
            "| 474|    0|     0|       0|        0|      0|    0|    0|   0|    0|       1|      0|       0|\n",
            "|5409|    0|     0|       0|        0|      0|    0|    0|   0|    0|       0|      1|       0|\n",
            "+----+-----+------+--------+---------+-------+-----+-----+----+-----+--------+-------+--------+\n",
            "only showing top 20 rows\n",
            "\n"
          ]
        }
      ]
    },
    {
      "cell_type": "code",
      "source": [
        "month_category = dataset\\\n",
        "                .groupBy(\"ID\")\\\n",
        "                .pivot(\"month_category\")\\\n",
        "                .agg(f.lit(1))\\\n",
        "                .na\\\n",
        "                .fill(0)"
      ],
      "metadata": {
        "id": "iGrpKvscGCry"
      },
      "execution_count": null,
      "outputs": []
    },
    {
      "cell_type": "code",
      "source": [
        "dataset = dataset.drop(\"month_category\")"
      ],
      "metadata": {
        "id": "BVNAY8-fbVvN"
      },
      "execution_count": null,
      "outputs": []
    },
    {
      "cell_type": "code",
      "source": [
        "# Renomear coluna real_bedrooms pra 1 real bathroom, 2 real bathrooms e 3 real bathrooms\n",
        "\n",
        "from pyspark.sql.functions import when\n",
        "\n",
        "# Criar uma nova coluna com base nos valores de 'real_bedrooms'\n",
        "dataset = dataset.withColumn(\n",
        "    \"quartile_zone_category\",\n",
        "     when(dataset[\"quartile_zone\"] == 1, \"1 quartile zone\")\n",
        "    .when(dataset[\"quartile_zone\"] == 2, \"2 quartiles zones\")\n",
        "    .when(dataset[\"quartile_zone\"] == 3, \"3 quartiles zones\")\n",
        "    .when(dataset[\"quartile_zone\"] == 4, \"4 quartiles zones\")\n",
        "\n",
        "    .otherwise(\"Outros\")  # Define um valor padrão para outros números de grades\n",
        ")"
      ],
      "metadata": {
        "id": "t7navVTD4NMt"
      },
      "execution_count": null,
      "outputs": []
    },
    {
      "cell_type": "code",
      "source": [
        "dataset = dataset.drop(\"quartile_zone\")"
      ],
      "metadata": {
        "id": "6rxauZ0dgt1J"
      },
      "execution_count": null,
      "outputs": []
    },
    {
      "cell_type": "code",
      "source": [
        "dataset\\\n",
        "  .groupBy(\"ID\")\\\n",
        "  .pivot(\"quartile_zone_category\")\\\n",
        "  .agg(f.lit(1))\\\n",
        "  .na\\\n",
        "  .fill(0)\\\n",
        "  .show()"
      ],
      "metadata": {
        "colab": {
          "base_uri": "https://localhost:8080/"
        },
        "id": "LWLJS-mR5RLN",
        "outputId": "ca009f2c-b0cf-45f1-8472-6b3a5e351bd7"
      },
      "execution_count": null,
      "outputs": [
        {
          "output_type": "stream",
          "name": "stdout",
          "text": [
            "+----+---------------+-----------------+-----------------+-----------------+\n",
            "|  ID|1 quartile zone|2 quartiles zones|3 quartiles zones|4 quartiles zones|\n",
            "+----+---------------+-----------------+-----------------+-----------------+\n",
            "|1677|              0|                1|                0|                0|\n",
            "|5385|              0|                0|                0|                1|\n",
            "|4894|              0|                0|                0|                1|\n",
            "|5556|              0|                1|                0|                0|\n",
            "|2250|              1|                0|                0|                0|\n",
            "|4823|              0|                0|                0|                1|\n",
            "|2453|              0|                0|                0|                1|\n",
            "|2509|              0|                0|                0|                1|\n",
            "|3091|              0|                0|                1|                0|\n",
            "|3764|              1|                0|                0|                0|\n",
            "|3506|              1|                0|                0|                0|\n",
            "|2214|              1|                0|                0|                0|\n",
            "|1697|              0|                1|                0|                0|\n",
            "|2529|              0|                1|                0|                0|\n",
            "|1950|              0|                0|                1|                0|\n",
            "|  26|              0|                0|                0|                1|\n",
            "| 964|              1|                0|                0|                0|\n",
            "|  29|              1|                0|                0|                0|\n",
            "|1806|              0|                1|                0|                0|\n",
            "|2927|              0|                0|                1|                0|\n",
            "+----+---------------+-----------------+-----------------+-----------------+\n",
            "only showing top 20 rows\n",
            "\n"
          ]
        }
      ]
    },
    {
      "cell_type": "code",
      "source": [
        "quartile_zone_category = dataset\\\n",
        "                        .groupBy(\"ID\")\\\n",
        "                        .pivot(\"quartile_zone_category\")\\\n",
        "                        .agg(f.lit(1))\\\n",
        "                        .na\\\n",
        "                        .fill(0)"
      ],
      "metadata": {
        "id": "nmhiJltxGWNy"
      },
      "execution_count": null,
      "outputs": []
    },
    {
      "cell_type": "code",
      "source": [
        "dataset = dataset.drop(\"quartile_zone_category\")"
      ],
      "metadata": {
        "id": "rmeONkIm97at"
      },
      "execution_count": null,
      "outputs": []
    },
    {
      "cell_type": "code",
      "source": [
        "dataset = dataset\\\n",
        "  .join(bedrooms_category, on = \"ID\", how = \"inner\")\\\n",
        "  .join(grade_category, on = \"ID\", how = \"inner\")\\\n",
        "  .join(real_bathrooms_category, on = \"ID\", how = \"inner\")\\\n",
        "  .join(month_category, on = \"ID\", how = \"inner\")\\\n",
        "  .join(quartile_zone_category, on = \"ID\", how = \"inner\")"
      ],
      "metadata": {
        "id": "NvHa_XGm9Cds"
      },
      "execution_count": null,
      "outputs": []
    },
    {
      "cell_type": "code",
      "source": [
        "dataset.show()"
      ],
      "metadata": {
        "colab": {
          "base_uri": "https://localhost:8080/"
        },
        "id": "IHeBPkmLMpYn",
        "outputId": "6a22544d-8a78-43b9-d4ff-d91343b33f2f"
      },
      "execution_count": null,
      "outputs": [
        {
          "output_type": "stream",
          "name": "stdout",
          "text": [
            "+----+------------+------------------+---------+---------+-----------------+------------+------------+------+---------+----------+----------+-------+--------+--------+--------+--------+---------------+----------------+----------------+-----+------+--------+---------+-------+-----+-----+----+-----+--------+-------+--------+---------------+-----------------+-----------------+-----------------+\n",
            "|  ID|has_basement|      living_in_m2|renovated|nice_view|perfect_condition|has_lavatory|single_floor| price|1 bedroom|2 bedrooms|3 bedrooms|1 grade|2 grades|3 grades|4 grades|5 grades|1 real bathroom|2 real bathrooms|3 real bathrooms|Abril|Agosto|Dezembro|Fevereiro|Janeiro|Julho|Junho|Maio|Março|Novembro|Outubro|Setembro|1 quartile zone|2 quartiles zones|3 quartiles zones|4 quartiles zones|\n",
            "+----+------------+------------------+---------+---------+-----------------+------------+------------+------+---------+----------+----------+-------+--------+--------+--------+--------+---------------+----------------+----------------+-----+------+--------+---------+-------+-----+-----+----+-----+--------+-------+--------+---------------+-----------------+-----------------+-----------------+\n",
            "|2040|           0|         103.12233|        0|        0|                0|           0|           0|560000|        0|         1|         0|      0|       1|       0|       0|       0|              1|               0|               0|    1|     0|       0|        0|      0|    0|    0|   0|    0|       0|      0|       0|              0|                0|                1|                0|\n",
            "|1697|           0|         123.56099|        0|        0|                0|           0|           1|235867|        0|         0|         1|      1|       0|       0|       0|       0|              0|               1|               0|    0|     0|       0|        0|      0|    0|    1|   0|    0|       0|      0|       0|              0|                1|                0|                0|\n",
            "|2509|           0|         163.50928|        0|        0|                0|           0|           0|780500|        0|         0|         1|      0|       0|       1|       0|       0|              1|               0|               0|    0|     1|       0|        0|      0|    0|    0|   0|    0|       0|      0|       0|              0|                0|                0|                1|\n",
            "|1950|           0|         267.56064|        0|        0|                0|           0|           0|780000|        0|         0|         1|      0|       0|       1|       0|       0|              0|               1|               0|    0|     1|       0|        0|      0|    0|    0|   0|    0|       0|      0|       0|              0|                0|                1|                0|\n",
            "|5556|           0|         171.87055|        0|        0|                0|           1|           0|515000|        0|         0|         1|      0|       0|       1|       0|       0|              0|               1|               0|    1|     0|       0|        0|      0|    0|    0|   0|    0|       0|      0|       0|              0|                1|                0|                0|\n",
            "|4894|           1|         360.46364|        0|        0|                0|           1|           0|917500|        0|         0|         1|      0|       0|       0|       0|       1|              0|               1|               0|    0|     0|       0|        0|      1|    0|    0|   0|    0|       0|      0|       0|              0|                0|                0|                1|\n",
            "| 474|           0|        239.503934|        0|        0|                0|           1|           0|400950|        0|         0|         1|      0|       0|       0|       1|       0|              0|               1|               0|    0|     0|       0|        0|      0|    0|    0|   0|    0|       1|      0|       0|              1|                0|                0|                0|\n",
            "|3764|           0|         128.20614|        0|        0|                0|           0|           1|300000|        0|         1|         0|      0|       1|       0|       0|       0|              1|               0|               0|    1|     0|       0|        0|      0|    0|    0|   0|    0|       0|      0|       0|              1|                0|                0|                0|\n",
            "|2214|           0|          91.97397|        0|        0|                0|           0|           1|210490|        0|         1|         0|      1|       0|       0|       0|       0|              1|               0|               0|    0|     0|       0|        0|      0|    0|    0|   0|    1|       0|      0|       0|              1|                0|                0|                0|\n",
            "|2250|           0|122.63195999999999|        0|        0|                0|           0|           1|215000|        1|         0|         0|      1|       0|       0|       0|       0|              1|               0|               0|    0|     0|       0|        0|      0|    0|    0|   1|    0|       0|      0|       0|              1|                0|                0|                0|\n",
            "|  26|           0|         271.27676|        0|        0|                0|           1|           0|730000|        0|         0|         1|      0|       0|       0|       1|       0|              0|               1|               0|    0|     0|       0|        0|      0|    0|    0|   0|    0|       0|      1|       0|              0|                0|                0|                1|\n",
            "|4590|           0|           185.806|        0|        0|                0|           1|           0|290000|        0|         1|         0|      0|       1|       0|       0|       0|              0|               1|               0|    0|     0|       0|        0|      0|    1|    0|   0|    0|       0|      0|       0|              0|                1|                0|                0|\n",
            "|5409|           0|         110.55457|        0|        0|                0|           1|           1|290000|        0|         1|         0|      0|       1|       0|       0|       0|              0|               1|               0|    0|     0|       0|        0|      0|    0|    0|   0|    0|       0|      1|       0|              1|                0|                0|                0|\n",
            "|4823|           0|         295.43154|        0|        0|                0|           1|           0|800866|        0|         0|         1|      0|       0|       0|       0|       1|              0|               1|               0|    0|     0|       0|        0|      0|    0|    0|   1|    0|       0|      0|       0|              0|                0|                0|                1|\n",
            "| 964|           0|          130.0642|        0|        0|                0|           0|           1|380000|        0|         1|         0|      0|       1|       0|       0|       0|              1|               0|               0|    0|     0|       0|        1|      0|    0|    0|   0|    0|       0|      0|       0|              1|                0|                0|                0|\n",
            "|3506|           0|        253.810996|        0|        0|                0|           0|           0|343000|        0|         0|         1|      0|       1|       0|       0|       0|              0|               0|               1|    0|     0|       0|        0|      0|    0|    0|   0|    0|       0|      1|       0|              1|                0|                0|                0|\n",
            "|5385|           1|         209.96078|        0|        0|                0|           1|           0|599000|        0|         0|         1|      0|       0|       1|       0|       0|              0|               1|               0|    0|     0|       0|        0|      0|    0|    0|   1|    0|       0|      0|       0|              0|                0|                0|                1|\n",
            "|2529|           0|         104.98039|        0|        0|                0|           0|           0|316000|        0|         1|         0|      1|       0|       0|       0|       0|              1|               0|               0|    0|     1|       0|        0|      0|    0|    0|   0|    0|       0|      0|       0|              0|                1|                0|                0|\n",
            "|1806|           1|         116.12875|        0|        0|                0|           0|           1|155000|        0|         1|         0|      0|       1|       0|       0|       0|              1|               0|               0|    0|     0|       0|        0|      0|    0|    0|   1|    0|       0|      0|       0|              0|                1|                0|                0|\n",
            "|2453|           0|         239.68974|        0|        0|                0|           1|           0|698000|        0|         1|         0|      0|       0|       0|       1|       0|              0|               1|               0|    0|     1|       0|        0|      0|    0|    0|   0|    0|       0|      0|       0|              0|                0|                0|                1|\n",
            "+----+------------+------------------+---------+---------+-----------------+------------+------------+------+---------+----------+----------+-------+--------+--------+--------+--------+---------------+----------------+----------------+-----+------+--------+---------+-------+-----+-----+----+-----+--------+-------+--------+---------------+-----------------+-----------------+-----------------+\n",
            "only showing top 20 rows\n",
            "\n"
          ]
        }
      ]
    },
    {
      "cell_type": "markdown",
      "source": [
        "Vetorização dos dados"
      ],
      "metadata": {
        "id": "mj6cqKzE8jSv"
      }
    },
    {
      "cell_type": "code",
      "source": [
        "from pyspark.ml.feature import VectorAssembler"
      ],
      "metadata": {
        "id": "lh1pOhCV8mZ_"
      },
      "execution_count": null,
      "outputs": []
    },
    {
      "cell_type": "code",
      "source": [
        "dataset = dataset.withColumnRenamed(\"price\", \"label\")"
      ],
      "metadata": {
        "id": "AT4DAd-98w8g"
      },
      "execution_count": null,
      "outputs": []
    },
    {
      "cell_type": "code",
      "source": [
        "X = ['has_basement',\n",
        "     'living_in_m2',\n",
        "     'renovated',\n",
        "     'nice_view',\n",
        "     'perfect_condition',\n",
        "     'has_lavatory',\n",
        "     'single_floor',\n",
        "     '1 bedroom',\n",
        "     '2 bedrooms',\n",
        "     '3 bedrooms',\n",
        "     '1 grade',\n",
        "     '2 grades',\n",
        "     '3 grades',\n",
        "     '4 grades',\n",
        "     '5 grades',\n",
        "     '1 real bathroom',\n",
        "     '2 real bathrooms',\n",
        "     '3 real bathrooms',\n",
        "     'Janeiro',\n",
        "     'Fevereiro',\n",
        "     'Março',\n",
        "     'Abril',\n",
        "     'Maio',\n",
        "     'Junho',\n",
        "     'Julho',\n",
        "     'Agosto',\n",
        "     'Setembro',\n",
        "     'Outubro',\n",
        "     'Novembro',\n",
        "     'Dezembro',\n",
        "     '1 quartile zone',\n",
        "     '2 quartiles zones',\n",
        "     '3 quartiles zones',\n",
        "     '4 quartiles zones'\n",
        "]"
      ],
      "metadata": {
        "id": "lkW6beVb-wVJ"
      },
      "execution_count": null,
      "outputs": []
    },
    {
      "cell_type": "code",
      "source": [
        "assembler = VectorAssembler(inputCols = X, outputCol = \"features\")"
      ],
      "metadata": {
        "id": "0ScCJaXUBPpU"
      },
      "execution_count": null,
      "outputs": []
    },
    {
      "cell_type": "code",
      "source": [
        "dataset_prep = assembler.transform(dataset).select(\"features\", \"label\")"
      ],
      "metadata": {
        "id": "u_l9WXimBfxF"
      },
      "execution_count": null,
      "outputs": []
    },
    {
      "cell_type": "code",
      "source": [
        "dataset_prep.show(10, truncate = False)"
      ],
      "metadata": {
        "colab": {
          "base_uri": "https://localhost:8080/"
        },
        "id": "tuLijfkXCHmN",
        "outputId": "bfa143ba-91ef-4119-fb9f-a33576349b36"
      },
      "execution_count": null,
      "outputs": [
        {
          "output_type": "stream",
          "name": "stdout",
          "text": [
            "+---------------------------------------------------------------------+------+\n",
            "|features                                                             |label |\n",
            "+---------------------------------------------------------------------+------+\n",
            "|(34,[1,8,11,15,21,32],[103.12233,1.0,1.0,1.0,1.0,1.0])               |560000|\n",
            "|(34,[1,6,9,10,16,23,31],[123.56099,1.0,1.0,1.0,1.0,1.0,1.0])         |235867|\n",
            "|(34,[1,9,12,15,25,33],[163.50928,1.0,1.0,1.0,1.0,1.0])               |780500|\n",
            "|(34,[1,9,12,16,25,32],[267.56064,1.0,1.0,1.0,1.0,1.0])               |780000|\n",
            "|(34,[1,5,9,12,16,21,31],[171.87055,1.0,1.0,1.0,1.0,1.0,1.0])         |515000|\n",
            "|(34,[0,1,5,9,14,16,18,33],[1.0,360.46364,1.0,1.0,1.0,1.0,1.0,1.0])   |917500|\n",
            "|(34,[1,5,9,13,16,28,30],[239.503934,1.0,1.0,1.0,1.0,1.0,1.0])        |400950|\n",
            "|(34,[1,6,8,11,15,21,30],[128.20614,1.0,1.0,1.0,1.0,1.0,1.0])         |300000|\n",
            "|(34,[1,6,8,10,15,20,30],[91.97397,1.0,1.0,1.0,1.0,1.0,1.0])          |210490|\n",
            "|(34,[1,6,7,10,15,22,30],[122.63195999999999,1.0,1.0,1.0,1.0,1.0,1.0])|215000|\n",
            "+---------------------------------------------------------------------+------+\n",
            "only showing top 10 rows\n",
            "\n"
          ]
        }
      ]
    },
    {
      "cell_type": "markdown",
      "source": [
        "Exploração de dados"
      ],
      "metadata": {
        "id": "Qm2-Ljq4ChUj"
      }
    },
    {
      "cell_type": "code",
      "source": [
        "from pyspark.ml.stat import Correlation\n",
        "import pandas as pd"
      ],
      "metadata": {
        "id": "kQwEMBfyChAY"
      },
      "execution_count": null,
      "outputs": []
    },
    {
      "cell_type": "code",
      "source": [
        "correlacao = Correlation.corr(dataset_prep, \"features\").collect()"
      ],
      "metadata": {
        "id": "00wb_erAJ5TM"
      },
      "execution_count": null,
      "outputs": []
    },
    {
      "cell_type": "code",
      "source": [
        "correlacao"
      ],
      "metadata": {
        "colab": {
          "base_uri": "https://localhost:8080/"
        },
        "id": "DA594sELU6oH",
        "outputId": "046f0d0c-76b3-4835-8109-08f02b33941f"
      },
      "execution_count": null,
      "outputs": [
        {
          "output_type": "execute_result",
          "data": {
            "text/plain": [
              "[Row(pearson(features)=DenseMatrix(34, 34, [1.0, 0.1624, 0.0234, 0.1494, 0.1035, 0.1043, 0.2769, -0.0716, ..., 0.0017, -0.0069, 0.0059, 0.012, -0.2902, -0.3268, -0.2998, 1.0], False))]"
            ]
          },
          "metadata": {},
          "execution_count": 293
        }
      ]
    },
    {
      "cell_type": "code",
      "source": [
        "correlacao = Correlation.corr(dataset_prep, \"features\").collect()[0][0]"
      ],
      "metadata": {
        "id": "bni7bCAlU-kJ"
      },
      "execution_count": null,
      "outputs": []
    },
    {
      "cell_type": "code",
      "source": [
        "correlacao"
      ],
      "metadata": {
        "colab": {
          "base_uri": "https://localhost:8080/"
        },
        "id": "FFYQ2AemVLrj",
        "outputId": "a670c4a2-b2fd-4e64-cbd1-b2f37a14c274"
      },
      "execution_count": null,
      "outputs": [
        {
          "output_type": "execute_result",
          "data": {
            "text/plain": [
              "DenseMatrix(34, 34, [1.0, 0.1624, 0.0234, 0.1494, 0.1035, 0.1043, 0.2769, -0.0716, ..., 0.0017, -0.0069, 0.0059, 0.012, -0.2902, -0.3268, -0.2998, 1.0], False)"
            ]
          },
          "metadata": {},
          "execution_count": 295
        }
      ]
    },
    {
      "cell_type": "code",
      "source": [
        "import numpy as np\n",
        "from pyspark.ml.linalg import DenseMatrix\n",
        "\n",
        "correlacao_np = correlacao\n",
        "# Converte matriz densa para numpy array\n",
        "correlacao_np = correlacao_np.toArray()\n",
        "correlacao_list = correlacao_np.tolist()  # Converte para lista"
      ],
      "metadata": {
        "id": "2CNcZtgI18Ru"
      },
      "execution_count": null,
      "outputs": []
    },
    {
      "cell_type": "code",
      "source": [
        "import pandas as pd\n",
        "import numpy as np\n",
        "\n",
        "# # Remodelar a matriz para corresponder ao formato esperado da matriz de correlação\n",
        "num_features = len(X)\n",
        "\n",
        "# Converte matriz densa para numpy array\n",
        "correlacao_np = correlacao.toArray()\n",
        "correlacao_np = correlacao_np.reshape((num_features, num_features))  # Remodelar para 34x34\n",
        "\n",
        "dataframe_correlacao = pd.DataFrame(correlacao_np, columns=X, index=X)"
      ],
      "metadata": {
        "id": "O_pDWqOZ2UJY"
      },
      "execution_count": null,
      "outputs": []
    },
    {
      "cell_type": "code",
      "source": [
        "dataframe_correlacao"
      ],
      "metadata": {
        "colab": {
          "base_uri": "https://localhost:8080/",
          "height": 1000
        },
        "id": "KWdI_YleZNJM",
        "outputId": "cc51dce7-07bf-4c8b-9764-722901d10851"
      },
      "execution_count": null,
      "outputs": [
        {
          "output_type": "execute_result",
          "data": {
            "text/plain": [
              "                   has_basement  living_in_m2  renovated  nice_view  \\\n",
              "has_basement           1.000000      0.162362   0.023397   0.149426   \n",
              "living_in_m2           0.162362      1.000000   0.048262   0.144122   \n",
              "renovated              0.023397      0.048262   1.000000   0.062777   \n",
              "nice_view              0.149426      0.144122   0.062777   1.000000   \n",
              "perfect_condition      0.103476     -0.023513  -0.029322   0.015994   \n",
              "has_lavatory           0.104299      0.409465  -0.035100   0.036594   \n",
              "single_floor           0.276929     -0.387008  -0.033424   0.014544   \n",
              "1 bedroom             -0.071612     -0.427152  -0.007929  -0.004103   \n",
              "2 bedrooms            -0.031886     -0.238297  -0.010329  -0.019695   \n",
              "3 bedrooms             0.084846      0.555288   0.016347   0.023135   \n",
              "1 grade               -0.128995     -0.397039  -0.000986  -0.038569   \n",
              "2 grades               0.081131     -0.315334  -0.001600  -0.097181   \n",
              "3 grades               0.084265      0.195588   0.008908   0.052485   \n",
              "4 grades              -0.077494      0.394645   0.004140   0.087003   \n",
              "5 grades              -0.066153      0.367634  -0.021785   0.048446   \n",
              "1 real bathroom       -0.040413     -0.581661  -0.022286  -0.031792   \n",
              "2 real bathrooms      -0.019887      0.357636  -0.020823  -0.014383   \n",
              "3 real bathrooms       0.107051      0.387840   0.076683   0.081955   \n",
              "Janeiro               -0.004329     -0.011857   0.005204   0.012377   \n",
              "Fevereiro              0.013202     -0.011568  -0.025445   0.009668   \n",
              "Março                 -0.004863     -0.025118  -0.009436  -0.004270   \n",
              "Abril                  0.003226     -0.013736  -0.003306   0.019928   \n",
              "Maio                  -0.016149     -0.001144   0.005814  -0.002729   \n",
              "Junho                  0.026351      0.041376  -0.005975  -0.009538   \n",
              "Julho                 -0.005444      0.015976  -0.000545  -0.018618   \n",
              "Agosto                -0.006941      0.014217  -0.001609   0.014879   \n",
              "Setembro               0.013205      0.017674   0.004658   0.017712   \n",
              "Outubro               -0.006675     -0.016222   0.024297  -0.006521   \n",
              "Novembro              -0.005982     -0.014001   0.008863  -0.003583   \n",
              "Dezembro              -0.005363     -0.007259  -0.004728  -0.026854   \n",
              "1 quartile zone       -0.096145     -0.119681  -0.016810  -0.025857   \n",
              "2 quartiles zones     -0.045968     -0.045392   0.000609  -0.024101   \n",
              "3 quartiles zones      0.122688     -0.042760   0.030445   0.058024   \n",
              "4 quartiles zones      0.021302      0.224532  -0.015715  -0.008133   \n",
              "\n",
              "                   perfect_condition  has_lavatory  single_floor  1 bedroom  \\\n",
              "has_basement                0.103476      0.104299      0.276929  -0.071612   \n",
              "living_in_m2               -0.023513      0.409465     -0.387008  -0.427152   \n",
              "renovated                  -0.029322     -0.035100     -0.033424  -0.007929   \n",
              "nice_view                   0.015994      0.036594      0.014544  -0.004103   \n",
              "perfect_condition           1.000000     -0.051507      0.096732  -0.036357   \n",
              "has_lavatory               -0.051507      1.000000     -0.271793  -0.298829   \n",
              "single_floor                0.096732     -0.271793      1.000000   0.183625   \n",
              "1 bedroom                  -0.036357     -0.298829      0.183625   1.000000   \n",
              "2 bedrooms                 -0.014433      0.012192      0.111555  -0.387421   \n",
              "3 bedrooms                  0.041281      0.205503     -0.248031  -0.333194   \n",
              "1 grade                     0.059141     -0.366080      0.232944   0.321973   \n",
              "2 grades                    0.051486     -0.125558      0.253880  -0.019512   \n",
              "3 grades                   -0.022159      0.241976     -0.185692  -0.099137   \n",
              "4 grades                   -0.076148      0.164075     -0.257166  -0.111544   \n",
              "5 grades                   -0.054781      0.094813     -0.183491  -0.072017   \n",
              "1 real bathroom             0.041949     -0.250833      0.464364   0.334149   \n",
              "2 real bathrooms           -0.021421      0.280274     -0.337162  -0.265408   \n",
              "3 real bathrooms           -0.035799     -0.058457     -0.217147  -0.115444   \n",
              "Janeiro                    -0.010346     -0.010411      0.011983  -0.009501   \n",
              "Fevereiro                  -0.002262     -0.025161      0.014552  -0.013992   \n",
              "Março                      -0.033558     -0.006258      0.013805   0.001108   \n",
              "Abril                      -0.017400     -0.013440     -0.006295   0.005550   \n",
              "Maio                       -0.016184     -0.004902      0.000851   0.011369   \n",
              "Junho                       0.030876      0.025302     -0.019964  -0.024638   \n",
              "Julho                       0.018517      0.014506     -0.015566  -0.009346   \n",
              "Agosto                      0.016025      0.011708      0.015632   0.012256   \n",
              "Setembro                    0.007687      0.017663     -0.011539  -0.009546   \n",
              "Outubro                    -0.017881      0.000460     -0.003206  -0.000754   \n",
              "Novembro                    0.022425     -0.022047     -0.000718   0.031044   \n",
              "Dezembro                   -0.000320      0.001526      0.009996   0.006341   \n",
              "1 quartile zone            -0.034426     -0.039852      0.117679  -0.032054   \n",
              "2 quartiles zones           0.009191     -0.047249      0.047200  -0.018638   \n",
              "3 quartiles zones           0.027872     -0.025187     -0.088626   0.097907   \n",
              "4 quartiles zones          -0.003843      0.122717     -0.082410  -0.050793   \n",
              "\n",
              "                   2 bedrooms  3 bedrooms  ...     Julho    Agosto  Setembro  \\\n",
              "has_basement        -0.031886    0.084846  ... -0.005444 -0.006941  0.013205   \n",
              "living_in_m2        -0.238297    0.555288  ...  0.015976  0.014217  0.017674   \n",
              "renovated           -0.010329    0.016347  ... -0.000545 -0.001609  0.004658   \n",
              "nice_view           -0.019695    0.023135  ... -0.018618  0.014879  0.017712   \n",
              "perfect_condition   -0.014433    0.041281  ...  0.018517  0.016025  0.007687   \n",
              "has_lavatory         0.012192    0.205503  ...  0.014506  0.011708  0.017663   \n",
              "single_floor         0.111555   -0.248031  ... -0.015566  0.015632 -0.011539   \n",
              "1 bedroom           -0.387421   -0.333194  ... -0.009346  0.012256 -0.009546   \n",
              "2 bedrooms           1.000000   -0.740138  ... -0.003245 -0.012535 -0.002801   \n",
              "3 bedrooms          -0.740138    1.000000  ...  0.010136  0.003880  0.009828   \n",
              "1 grade             -0.040695   -0.193233  ... -0.015924  0.007086 -0.001583   \n",
              "2 grades             0.137205   -0.126092  ... -0.008097 -0.009479 -0.013322   \n",
              "3 grades            -0.014299    0.086937  ...  0.016100  0.006387 -0.000661   \n",
              "4 grades            -0.105909    0.189680  ...  0.010041 -0.016868  0.027564   \n",
              "5 grades            -0.078242    0.132551  ... -0.006880  0.024389 -0.006104   \n",
              "1 real bathroom      0.128548   -0.375205  ...  0.005258 -0.000784 -0.018930   \n",
              "2 real bathrooms    -0.049604    0.244326  ... -0.000727  0.003955  0.018053   \n",
              "3 real bathrooms    -0.138419    0.225772  ... -0.007994 -0.005696  0.001137   \n",
              "Janeiro             -0.000660    0.007605  ... -0.074918 -0.070284 -0.064533   \n",
              "Fevereiro            0.018475   -0.008689  ... -0.083921 -0.078730 -0.072288   \n",
              "Março                0.020385   -0.021656  ... -0.102467 -0.096130 -0.088264   \n",
              "Abril               -0.002717   -0.001270  ... -0.116574 -0.109364 -0.100415   \n",
              "Maio                -0.012508    0.004499  ... -0.120625 -0.113164 -0.103905   \n",
              "Junho               -0.007610    0.025754  ... -0.116574 -0.109364 -0.100415   \n",
              "Julho               -0.003245    0.010136  ...  1.000000 -0.109276 -0.100335   \n",
              "Agosto              -0.012535    0.003880  ... -0.109276  1.000000 -0.094130   \n",
              "Setembro            -0.002801    0.009828  ... -0.100335 -0.094130  1.000000   \n",
              "Outubro              0.027722   -0.027802  ... -0.103972 -0.097542 -0.089561   \n",
              "Novembro            -0.021033   -0.001132  ... -0.090703 -0.085093 -0.078130   \n",
              "Dezembro             0.000851   -0.005495  ... -0.091141 -0.085504 -0.078508   \n",
              "1 quartile zone      0.044898   -0.022538  ...  0.003057  0.001575 -0.009777   \n",
              "2 quartiles zones    0.029770   -0.016852  ... -0.004144  0.004870 -0.004181   \n",
              "3 quartiles zones   -0.024251   -0.046613  ... -0.009898 -0.013292  0.012430   \n",
              "4 quartiles zones   -0.054999    0.093299  ...  0.012106  0.007219  0.001661   \n",
              "\n",
              "                    Outubro  Novembro  Dezembro  1 quartile zone  \\\n",
              "has_basement      -0.006675 -0.005982 -0.005363        -0.096145   \n",
              "living_in_m2      -0.016222 -0.014001 -0.007259        -0.119681   \n",
              "renovated          0.024297  0.008863 -0.004728        -0.016810   \n",
              "nice_view         -0.006521 -0.003583 -0.026854        -0.025857   \n",
              "perfect_condition -0.017881  0.022425 -0.000320        -0.034426   \n",
              "has_lavatory       0.000460 -0.022047  0.001526        -0.039852   \n",
              "single_floor      -0.003206 -0.000718  0.009996         0.117679   \n",
              "1 bedroom         -0.000754  0.031044  0.006341        -0.032054   \n",
              "2 bedrooms         0.027722 -0.021033  0.000851         0.044898   \n",
              "3 bedrooms        -0.027802 -0.001132 -0.005495        -0.022538   \n",
              "1 grade            0.011323  0.005250 -0.014204         0.123823   \n",
              "2 grades          -0.012573  0.014106  0.019191         0.079341   \n",
              "3 grades           0.010241 -0.013782 -0.010044        -0.077753   \n",
              "4 grades          -0.005717  0.001113 -0.007400        -0.093195   \n",
              "5 grades          -0.001618 -0.014005  0.010098        -0.074977   \n",
              "1 real bathroom   -0.002240  0.030813  0.016514         0.081630   \n",
              "2 real bathrooms  -0.006899 -0.030817 -0.003118        -0.048705   \n",
              "3 real bathrooms   0.016314  0.000713 -0.023610        -0.057089   \n",
              "Janeiro           -0.066872 -0.058338 -0.058620        -0.004114   \n",
              "Fevereiro         -0.074909 -0.065348 -0.065664         0.009550   \n",
              "Março             -0.091464 -0.079791 -0.080177         0.014147   \n",
              "Abril             -0.104055 -0.090775 -0.091214         0.010718   \n",
              "Maio              -0.107671 -0.093930 -0.094384        -0.018041   \n",
              "Junho             -0.104055 -0.090775 -0.091214        -0.001761   \n",
              "Julho             -0.103972 -0.090703 -0.091141         0.003057   \n",
              "Agosto            -0.097542 -0.085093 -0.085504         0.001575   \n",
              "Setembro          -0.089561 -0.078130 -0.078508        -0.009777   \n",
              "Outubro            1.000000 -0.080962 -0.081354        -0.019228   \n",
              "Novembro          -0.080962  1.000000 -0.070971         0.005140   \n",
              "Dezembro          -0.081354 -0.070971  1.000000         0.012106   \n",
              "1 quartile zone   -0.019228  0.005140  0.012106         1.000000   \n",
              "2 quartiles zones  0.016557 -0.002521  0.003857        -0.365591   \n",
              "3 quartiles zones  0.008069 -0.007885 -0.027067        -0.335371   \n",
              "4 quartiles zones -0.006880  0.005889  0.012048        -0.290189   \n",
              "\n",
              "                   2 quartiles zones  3 quartiles zones  4 quartiles zones  \n",
              "has_basement               -0.045968           0.122688           0.021302  \n",
              "living_in_m2               -0.045392          -0.042760           0.224532  \n",
              "renovated                   0.000609           0.030445          -0.015715  \n",
              "nice_view                  -0.024101           0.058024          -0.008133  \n",
              "perfect_condition           0.009191           0.027872          -0.003843  \n",
              "has_lavatory               -0.047249          -0.025187           0.122717  \n",
              "single_floor                0.047200          -0.088626          -0.082410  \n",
              "1 bedroom                  -0.018638           0.097907          -0.050793  \n",
              "2 bedrooms                  0.029770          -0.024251          -0.054999  \n",
              "3 bedrooms                 -0.016852          -0.046613           0.093299  \n",
              "1 grade                     0.054253          -0.052412          -0.136018  \n",
              "2 grades                    0.079197          -0.002290          -0.170922  \n",
              "3 grades                   -0.064823           0.061373           0.089212  \n",
              "4 grades                   -0.049483          -0.017346           0.173488  \n",
              "5 grades                   -0.059832          -0.023510           0.172405  \n",
              "1 real bathroom             0.027296           0.012909          -0.131455  \n",
              "2 real bathrooms           -0.008867          -0.039427           0.104389  \n",
              "3 real bathrooms           -0.032374           0.047779           0.045458  \n",
              "Janeiro                     0.020658          -0.015085          -0.002536  \n",
              "Fevereiro                   0.023499          -0.009267          -0.026550  \n",
              "Março                      -0.012602           0.015432          -0.017565  \n",
              "Abril                      -0.003381           0.004332          -0.012282  \n",
              "Maio                       -0.025065           0.045161          -0.001459  \n",
              "Junho                      -0.004454          -0.014644           0.022709  \n",
              "Julho                      -0.004144          -0.009898           0.012106  \n",
              "Agosto                      0.004870          -0.013292           0.007219  \n",
              "Setembro                   -0.004181           0.012430           0.001661  \n",
              "Outubro                     0.016557           0.008069          -0.006880  \n",
              "Novembro                   -0.002521          -0.007885           0.005889  \n",
              "Dezembro                    0.003857          -0.027067           0.012048  \n",
              "1 quartile zone            -0.365591          -0.335371          -0.290189  \n",
              "2 quartiles zones           1.000000          -0.377682          -0.326800  \n",
              "3 quartiles zones          -0.377682           1.000000          -0.299787  \n",
              "4 quartiles zones          -0.326800          -0.299787           1.000000  \n",
              "\n",
              "[34 rows x 34 columns]"
            ],
            "text/html": [
              "\n",
              "  <div id=\"df-9213f50a-d606-444b-b891-f092b59c8e75\" class=\"colab-df-container\">\n",
              "    <div>\n",
              "<style scoped>\n",
              "    .dataframe tbody tr th:only-of-type {\n",
              "        vertical-align: middle;\n",
              "    }\n",
              "\n",
              "    .dataframe tbody tr th {\n",
              "        vertical-align: top;\n",
              "    }\n",
              "\n",
              "    .dataframe thead th {\n",
              "        text-align: right;\n",
              "    }\n",
              "</style>\n",
              "<table border=\"1\" class=\"dataframe\">\n",
              "  <thead>\n",
              "    <tr style=\"text-align: right;\">\n",
              "      <th></th>\n",
              "      <th>has_basement</th>\n",
              "      <th>living_in_m2</th>\n",
              "      <th>renovated</th>\n",
              "      <th>nice_view</th>\n",
              "      <th>perfect_condition</th>\n",
              "      <th>has_lavatory</th>\n",
              "      <th>single_floor</th>\n",
              "      <th>1 bedroom</th>\n",
              "      <th>2 bedrooms</th>\n",
              "      <th>3 bedrooms</th>\n",
              "      <th>...</th>\n",
              "      <th>Julho</th>\n",
              "      <th>Agosto</th>\n",
              "      <th>Setembro</th>\n",
              "      <th>Outubro</th>\n",
              "      <th>Novembro</th>\n",
              "      <th>Dezembro</th>\n",
              "      <th>1 quartile zone</th>\n",
              "      <th>2 quartiles zones</th>\n",
              "      <th>3 quartiles zones</th>\n",
              "      <th>4 quartiles zones</th>\n",
              "    </tr>\n",
              "  </thead>\n",
              "  <tbody>\n",
              "    <tr>\n",
              "      <th>has_basement</th>\n",
              "      <td>1.000000</td>\n",
              "      <td>0.162362</td>\n",
              "      <td>0.023397</td>\n",
              "      <td>0.149426</td>\n",
              "      <td>0.103476</td>\n",
              "      <td>0.104299</td>\n",
              "      <td>0.276929</td>\n",
              "      <td>-0.071612</td>\n",
              "      <td>-0.031886</td>\n",
              "      <td>0.084846</td>\n",
              "      <td>...</td>\n",
              "      <td>-0.005444</td>\n",
              "      <td>-0.006941</td>\n",
              "      <td>0.013205</td>\n",
              "      <td>-0.006675</td>\n",
              "      <td>-0.005982</td>\n",
              "      <td>-0.005363</td>\n",
              "      <td>-0.096145</td>\n",
              "      <td>-0.045968</td>\n",
              "      <td>0.122688</td>\n",
              "      <td>0.021302</td>\n",
              "    </tr>\n",
              "    <tr>\n",
              "      <th>living_in_m2</th>\n",
              "      <td>0.162362</td>\n",
              "      <td>1.000000</td>\n",
              "      <td>0.048262</td>\n",
              "      <td>0.144122</td>\n",
              "      <td>-0.023513</td>\n",
              "      <td>0.409465</td>\n",
              "      <td>-0.387008</td>\n",
              "      <td>-0.427152</td>\n",
              "      <td>-0.238297</td>\n",
              "      <td>0.555288</td>\n",
              "      <td>...</td>\n",
              "      <td>0.015976</td>\n",
              "      <td>0.014217</td>\n",
              "      <td>0.017674</td>\n",
              "      <td>-0.016222</td>\n",
              "      <td>-0.014001</td>\n",
              "      <td>-0.007259</td>\n",
              "      <td>-0.119681</td>\n",
              "      <td>-0.045392</td>\n",
              "      <td>-0.042760</td>\n",
              "      <td>0.224532</td>\n",
              "    </tr>\n",
              "    <tr>\n",
              "      <th>renovated</th>\n",
              "      <td>0.023397</td>\n",
              "      <td>0.048262</td>\n",
              "      <td>1.000000</td>\n",
              "      <td>0.062777</td>\n",
              "      <td>-0.029322</td>\n",
              "      <td>-0.035100</td>\n",
              "      <td>-0.033424</td>\n",
              "      <td>-0.007929</td>\n",
              "      <td>-0.010329</td>\n",
              "      <td>0.016347</td>\n",
              "      <td>...</td>\n",
              "      <td>-0.000545</td>\n",
              "      <td>-0.001609</td>\n",
              "      <td>0.004658</td>\n",
              "      <td>0.024297</td>\n",
              "      <td>0.008863</td>\n",
              "      <td>-0.004728</td>\n",
              "      <td>-0.016810</td>\n",
              "      <td>0.000609</td>\n",
              "      <td>0.030445</td>\n",
              "      <td>-0.015715</td>\n",
              "    </tr>\n",
              "    <tr>\n",
              "      <th>nice_view</th>\n",
              "      <td>0.149426</td>\n",
              "      <td>0.144122</td>\n",
              "      <td>0.062777</td>\n",
              "      <td>1.000000</td>\n",
              "      <td>0.015994</td>\n",
              "      <td>0.036594</td>\n",
              "      <td>0.014544</td>\n",
              "      <td>-0.004103</td>\n",
              "      <td>-0.019695</td>\n",
              "      <td>0.023135</td>\n",
              "      <td>...</td>\n",
              "      <td>-0.018618</td>\n",
              "      <td>0.014879</td>\n",
              "      <td>0.017712</td>\n",
              "      <td>-0.006521</td>\n",
              "      <td>-0.003583</td>\n",
              "      <td>-0.026854</td>\n",
              "      <td>-0.025857</td>\n",
              "      <td>-0.024101</td>\n",
              "      <td>0.058024</td>\n",
              "      <td>-0.008133</td>\n",
              "    </tr>\n",
              "    <tr>\n",
              "      <th>perfect_condition</th>\n",
              "      <td>0.103476</td>\n",
              "      <td>-0.023513</td>\n",
              "      <td>-0.029322</td>\n",
              "      <td>0.015994</td>\n",
              "      <td>1.000000</td>\n",
              "      <td>-0.051507</td>\n",
              "      <td>0.096732</td>\n",
              "      <td>-0.036357</td>\n",
              "      <td>-0.014433</td>\n",
              "      <td>0.041281</td>\n",
              "      <td>...</td>\n",
              "      <td>0.018517</td>\n",
              "      <td>0.016025</td>\n",
              "      <td>0.007687</td>\n",
              "      <td>-0.017881</td>\n",
              "      <td>0.022425</td>\n",
              "      <td>-0.000320</td>\n",
              "      <td>-0.034426</td>\n",
              "      <td>0.009191</td>\n",
              "      <td>0.027872</td>\n",
              "      <td>-0.003843</td>\n",
              "    </tr>\n",
              "    <tr>\n",
              "      <th>has_lavatory</th>\n",
              "      <td>0.104299</td>\n",
              "      <td>0.409465</td>\n",
              "      <td>-0.035100</td>\n",
              "      <td>0.036594</td>\n",
              "      <td>-0.051507</td>\n",
              "      <td>1.000000</td>\n",
              "      <td>-0.271793</td>\n",
              "      <td>-0.298829</td>\n",
              "      <td>0.012192</td>\n",
              "      <td>0.205503</td>\n",
              "      <td>...</td>\n",
              "      <td>0.014506</td>\n",
              "      <td>0.011708</td>\n",
              "      <td>0.017663</td>\n",
              "      <td>0.000460</td>\n",
              "      <td>-0.022047</td>\n",
              "      <td>0.001526</td>\n",
              "      <td>-0.039852</td>\n",
              "      <td>-0.047249</td>\n",
              "      <td>-0.025187</td>\n",
              "      <td>0.122717</td>\n",
              "    </tr>\n",
              "    <tr>\n",
              "      <th>single_floor</th>\n",
              "      <td>0.276929</td>\n",
              "      <td>-0.387008</td>\n",
              "      <td>-0.033424</td>\n",
              "      <td>0.014544</td>\n",
              "      <td>0.096732</td>\n",
              "      <td>-0.271793</td>\n",
              "      <td>1.000000</td>\n",
              "      <td>0.183625</td>\n",
              "      <td>0.111555</td>\n",
              "      <td>-0.248031</td>\n",
              "      <td>...</td>\n",
              "      <td>-0.015566</td>\n",
              "      <td>0.015632</td>\n",
              "      <td>-0.011539</td>\n",
              "      <td>-0.003206</td>\n",
              "      <td>-0.000718</td>\n",
              "      <td>0.009996</td>\n",
              "      <td>0.117679</td>\n",
              "      <td>0.047200</td>\n",
              "      <td>-0.088626</td>\n",
              "      <td>-0.082410</td>\n",
              "    </tr>\n",
              "    <tr>\n",
              "      <th>1 bedroom</th>\n",
              "      <td>-0.071612</td>\n",
              "      <td>-0.427152</td>\n",
              "      <td>-0.007929</td>\n",
              "      <td>-0.004103</td>\n",
              "      <td>-0.036357</td>\n",
              "      <td>-0.298829</td>\n",
              "      <td>0.183625</td>\n",
              "      <td>1.000000</td>\n",
              "      <td>-0.387421</td>\n",
              "      <td>-0.333194</td>\n",
              "      <td>...</td>\n",
              "      <td>-0.009346</td>\n",
              "      <td>0.012256</td>\n",
              "      <td>-0.009546</td>\n",
              "      <td>-0.000754</td>\n",
              "      <td>0.031044</td>\n",
              "      <td>0.006341</td>\n",
              "      <td>-0.032054</td>\n",
              "      <td>-0.018638</td>\n",
              "      <td>0.097907</td>\n",
              "      <td>-0.050793</td>\n",
              "    </tr>\n",
              "    <tr>\n",
              "      <th>2 bedrooms</th>\n",
              "      <td>-0.031886</td>\n",
              "      <td>-0.238297</td>\n",
              "      <td>-0.010329</td>\n",
              "      <td>-0.019695</td>\n",
              "      <td>-0.014433</td>\n",
              "      <td>0.012192</td>\n",
              "      <td>0.111555</td>\n",
              "      <td>-0.387421</td>\n",
              "      <td>1.000000</td>\n",
              "      <td>-0.740138</td>\n",
              "      <td>...</td>\n",
              "      <td>-0.003245</td>\n",
              "      <td>-0.012535</td>\n",
              "      <td>-0.002801</td>\n",
              "      <td>0.027722</td>\n",
              "      <td>-0.021033</td>\n",
              "      <td>0.000851</td>\n",
              "      <td>0.044898</td>\n",
              "      <td>0.029770</td>\n",
              "      <td>-0.024251</td>\n",
              "      <td>-0.054999</td>\n",
              "    </tr>\n",
              "    <tr>\n",
              "      <th>3 bedrooms</th>\n",
              "      <td>0.084846</td>\n",
              "      <td>0.555288</td>\n",
              "      <td>0.016347</td>\n",
              "      <td>0.023135</td>\n",
              "      <td>0.041281</td>\n",
              "      <td>0.205503</td>\n",
              "      <td>-0.248031</td>\n",
              "      <td>-0.333194</td>\n",
              "      <td>-0.740138</td>\n",
              "      <td>1.000000</td>\n",
              "      <td>...</td>\n",
              "      <td>0.010136</td>\n",
              "      <td>0.003880</td>\n",
              "      <td>0.009828</td>\n",
              "      <td>-0.027802</td>\n",
              "      <td>-0.001132</td>\n",
              "      <td>-0.005495</td>\n",
              "      <td>-0.022538</td>\n",
              "      <td>-0.016852</td>\n",
              "      <td>-0.046613</td>\n",
              "      <td>0.093299</td>\n",
              "    </tr>\n",
              "    <tr>\n",
              "      <th>1 grade</th>\n",
              "      <td>-0.128995</td>\n",
              "      <td>-0.397039</td>\n",
              "      <td>-0.000986</td>\n",
              "      <td>-0.038569</td>\n",
              "      <td>0.059141</td>\n",
              "      <td>-0.366080</td>\n",
              "      <td>0.232944</td>\n",
              "      <td>0.321973</td>\n",
              "      <td>-0.040695</td>\n",
              "      <td>-0.193233</td>\n",
              "      <td>...</td>\n",
              "      <td>-0.015924</td>\n",
              "      <td>0.007086</td>\n",
              "      <td>-0.001583</td>\n",
              "      <td>0.011323</td>\n",
              "      <td>0.005250</td>\n",
              "      <td>-0.014204</td>\n",
              "      <td>0.123823</td>\n",
              "      <td>0.054253</td>\n",
              "      <td>-0.052412</td>\n",
              "      <td>-0.136018</td>\n",
              "    </tr>\n",
              "    <tr>\n",
              "      <th>2 grades</th>\n",
              "      <td>0.081131</td>\n",
              "      <td>-0.315334</td>\n",
              "      <td>-0.001600</td>\n",
              "      <td>-0.097181</td>\n",
              "      <td>0.051486</td>\n",
              "      <td>-0.125558</td>\n",
              "      <td>0.253880</td>\n",
              "      <td>-0.019512</td>\n",
              "      <td>0.137205</td>\n",
              "      <td>-0.126092</td>\n",
              "      <td>...</td>\n",
              "      <td>-0.008097</td>\n",
              "      <td>-0.009479</td>\n",
              "      <td>-0.013322</td>\n",
              "      <td>-0.012573</td>\n",
              "      <td>0.014106</td>\n",
              "      <td>0.019191</td>\n",
              "      <td>0.079341</td>\n",
              "      <td>0.079197</td>\n",
              "      <td>-0.002290</td>\n",
              "      <td>-0.170922</td>\n",
              "    </tr>\n",
              "    <tr>\n",
              "      <th>3 grades</th>\n",
              "      <td>0.084265</td>\n",
              "      <td>0.195588</td>\n",
              "      <td>0.008908</td>\n",
              "      <td>0.052485</td>\n",
              "      <td>-0.022159</td>\n",
              "      <td>0.241976</td>\n",
              "      <td>-0.185692</td>\n",
              "      <td>-0.099137</td>\n",
              "      <td>-0.014299</td>\n",
              "      <td>0.086937</td>\n",
              "      <td>...</td>\n",
              "      <td>0.016100</td>\n",
              "      <td>0.006387</td>\n",
              "      <td>-0.000661</td>\n",
              "      <td>0.010241</td>\n",
              "      <td>-0.013782</td>\n",
              "      <td>-0.010044</td>\n",
              "      <td>-0.077753</td>\n",
              "      <td>-0.064823</td>\n",
              "      <td>0.061373</td>\n",
              "      <td>0.089212</td>\n",
              "    </tr>\n",
              "    <tr>\n",
              "      <th>4 grades</th>\n",
              "      <td>-0.077494</td>\n",
              "      <td>0.394645</td>\n",
              "      <td>0.004140</td>\n",
              "      <td>0.087003</td>\n",
              "      <td>-0.076148</td>\n",
              "      <td>0.164075</td>\n",
              "      <td>-0.257166</td>\n",
              "      <td>-0.111544</td>\n",
              "      <td>-0.105909</td>\n",
              "      <td>0.189680</td>\n",
              "      <td>...</td>\n",
              "      <td>0.010041</td>\n",
              "      <td>-0.016868</td>\n",
              "      <td>0.027564</td>\n",
              "      <td>-0.005717</td>\n",
              "      <td>0.001113</td>\n",
              "      <td>-0.007400</td>\n",
              "      <td>-0.093195</td>\n",
              "      <td>-0.049483</td>\n",
              "      <td>-0.017346</td>\n",
              "      <td>0.173488</td>\n",
              "    </tr>\n",
              "    <tr>\n",
              "      <th>5 grades</th>\n",
              "      <td>-0.066153</td>\n",
              "      <td>0.367634</td>\n",
              "      <td>-0.021785</td>\n",
              "      <td>0.048446</td>\n",
              "      <td>-0.054781</td>\n",
              "      <td>0.094813</td>\n",
              "      <td>-0.183491</td>\n",
              "      <td>-0.072017</td>\n",
              "      <td>-0.078242</td>\n",
              "      <td>0.132551</td>\n",
              "      <td>...</td>\n",
              "      <td>-0.006880</td>\n",
              "      <td>0.024389</td>\n",
              "      <td>-0.006104</td>\n",
              "      <td>-0.001618</td>\n",
              "      <td>-0.014005</td>\n",
              "      <td>0.010098</td>\n",
              "      <td>-0.074977</td>\n",
              "      <td>-0.059832</td>\n",
              "      <td>-0.023510</td>\n",
              "      <td>0.172405</td>\n",
              "    </tr>\n",
              "    <tr>\n",
              "      <th>1 real bathroom</th>\n",
              "      <td>-0.040413</td>\n",
              "      <td>-0.581661</td>\n",
              "      <td>-0.022286</td>\n",
              "      <td>-0.031792</td>\n",
              "      <td>0.041949</td>\n",
              "      <td>-0.250833</td>\n",
              "      <td>0.464364</td>\n",
              "      <td>0.334149</td>\n",
              "      <td>0.128548</td>\n",
              "      <td>-0.375205</td>\n",
              "      <td>...</td>\n",
              "      <td>0.005258</td>\n",
              "      <td>-0.000784</td>\n",
              "      <td>-0.018930</td>\n",
              "      <td>-0.002240</td>\n",
              "      <td>0.030813</td>\n",
              "      <td>0.016514</td>\n",
              "      <td>0.081630</td>\n",
              "      <td>0.027296</td>\n",
              "      <td>0.012909</td>\n",
              "      <td>-0.131455</td>\n",
              "    </tr>\n",
              "    <tr>\n",
              "      <th>2 real bathrooms</th>\n",
              "      <td>-0.019887</td>\n",
              "      <td>0.357636</td>\n",
              "      <td>-0.020823</td>\n",
              "      <td>-0.014383</td>\n",
              "      <td>-0.021421</td>\n",
              "      <td>0.280274</td>\n",
              "      <td>-0.337162</td>\n",
              "      <td>-0.265408</td>\n",
              "      <td>-0.049604</td>\n",
              "      <td>0.244326</td>\n",
              "      <td>...</td>\n",
              "      <td>-0.000727</td>\n",
              "      <td>0.003955</td>\n",
              "      <td>0.018053</td>\n",
              "      <td>-0.006899</td>\n",
              "      <td>-0.030817</td>\n",
              "      <td>-0.003118</td>\n",
              "      <td>-0.048705</td>\n",
              "      <td>-0.008867</td>\n",
              "      <td>-0.039427</td>\n",
              "      <td>0.104389</td>\n",
              "    </tr>\n",
              "    <tr>\n",
              "      <th>3 real bathrooms</th>\n",
              "      <td>0.107051</td>\n",
              "      <td>0.387840</td>\n",
              "      <td>0.076683</td>\n",
              "      <td>0.081955</td>\n",
              "      <td>-0.035799</td>\n",
              "      <td>-0.058457</td>\n",
              "      <td>-0.217147</td>\n",
              "      <td>-0.115444</td>\n",
              "      <td>-0.138419</td>\n",
              "      <td>0.225772</td>\n",
              "      <td>...</td>\n",
              "      <td>-0.007994</td>\n",
              "      <td>-0.005696</td>\n",
              "      <td>0.001137</td>\n",
              "      <td>0.016314</td>\n",
              "      <td>0.000713</td>\n",
              "      <td>-0.023610</td>\n",
              "      <td>-0.057089</td>\n",
              "      <td>-0.032374</td>\n",
              "      <td>0.047779</td>\n",
              "      <td>0.045458</td>\n",
              "    </tr>\n",
              "    <tr>\n",
              "      <th>Janeiro</th>\n",
              "      <td>-0.004329</td>\n",
              "      <td>-0.011857</td>\n",
              "      <td>0.005204</td>\n",
              "      <td>0.012377</td>\n",
              "      <td>-0.010346</td>\n",
              "      <td>-0.010411</td>\n",
              "      <td>0.011983</td>\n",
              "      <td>-0.009501</td>\n",
              "      <td>-0.000660</td>\n",
              "      <td>0.007605</td>\n",
              "      <td>...</td>\n",
              "      <td>-0.074918</td>\n",
              "      <td>-0.070284</td>\n",
              "      <td>-0.064533</td>\n",
              "      <td>-0.066872</td>\n",
              "      <td>-0.058338</td>\n",
              "      <td>-0.058620</td>\n",
              "      <td>-0.004114</td>\n",
              "      <td>0.020658</td>\n",
              "      <td>-0.015085</td>\n",
              "      <td>-0.002536</td>\n",
              "    </tr>\n",
              "    <tr>\n",
              "      <th>Fevereiro</th>\n",
              "      <td>0.013202</td>\n",
              "      <td>-0.011568</td>\n",
              "      <td>-0.025445</td>\n",
              "      <td>0.009668</td>\n",
              "      <td>-0.002262</td>\n",
              "      <td>-0.025161</td>\n",
              "      <td>0.014552</td>\n",
              "      <td>-0.013992</td>\n",
              "      <td>0.018475</td>\n",
              "      <td>-0.008689</td>\n",
              "      <td>...</td>\n",
              "      <td>-0.083921</td>\n",
              "      <td>-0.078730</td>\n",
              "      <td>-0.072288</td>\n",
              "      <td>-0.074909</td>\n",
              "      <td>-0.065348</td>\n",
              "      <td>-0.065664</td>\n",
              "      <td>0.009550</td>\n",
              "      <td>0.023499</td>\n",
              "      <td>-0.009267</td>\n",
              "      <td>-0.026550</td>\n",
              "    </tr>\n",
              "    <tr>\n",
              "      <th>Março</th>\n",
              "      <td>-0.004863</td>\n",
              "      <td>-0.025118</td>\n",
              "      <td>-0.009436</td>\n",
              "      <td>-0.004270</td>\n",
              "      <td>-0.033558</td>\n",
              "      <td>-0.006258</td>\n",
              "      <td>0.013805</td>\n",
              "      <td>0.001108</td>\n",
              "      <td>0.020385</td>\n",
              "      <td>-0.021656</td>\n",
              "      <td>...</td>\n",
              "      <td>-0.102467</td>\n",
              "      <td>-0.096130</td>\n",
              "      <td>-0.088264</td>\n",
              "      <td>-0.091464</td>\n",
              "      <td>-0.079791</td>\n",
              "      <td>-0.080177</td>\n",
              "      <td>0.014147</td>\n",
              "      <td>-0.012602</td>\n",
              "      <td>0.015432</td>\n",
              "      <td>-0.017565</td>\n",
              "    </tr>\n",
              "    <tr>\n",
              "      <th>Abril</th>\n",
              "      <td>0.003226</td>\n",
              "      <td>-0.013736</td>\n",
              "      <td>-0.003306</td>\n",
              "      <td>0.019928</td>\n",
              "      <td>-0.017400</td>\n",
              "      <td>-0.013440</td>\n",
              "      <td>-0.006295</td>\n",
              "      <td>0.005550</td>\n",
              "      <td>-0.002717</td>\n",
              "      <td>-0.001270</td>\n",
              "      <td>...</td>\n",
              "      <td>-0.116574</td>\n",
              "      <td>-0.109364</td>\n",
              "      <td>-0.100415</td>\n",
              "      <td>-0.104055</td>\n",
              "      <td>-0.090775</td>\n",
              "      <td>-0.091214</td>\n",
              "      <td>0.010718</td>\n",
              "      <td>-0.003381</td>\n",
              "      <td>0.004332</td>\n",
              "      <td>-0.012282</td>\n",
              "    </tr>\n",
              "    <tr>\n",
              "      <th>Maio</th>\n",
              "      <td>-0.016149</td>\n",
              "      <td>-0.001144</td>\n",
              "      <td>0.005814</td>\n",
              "      <td>-0.002729</td>\n",
              "      <td>-0.016184</td>\n",
              "      <td>-0.004902</td>\n",
              "      <td>0.000851</td>\n",
              "      <td>0.011369</td>\n",
              "      <td>-0.012508</td>\n",
              "      <td>0.004499</td>\n",
              "      <td>...</td>\n",
              "      <td>-0.120625</td>\n",
              "      <td>-0.113164</td>\n",
              "      <td>-0.103905</td>\n",
              "      <td>-0.107671</td>\n",
              "      <td>-0.093930</td>\n",
              "      <td>-0.094384</td>\n",
              "      <td>-0.018041</td>\n",
              "      <td>-0.025065</td>\n",
              "      <td>0.045161</td>\n",
              "      <td>-0.001459</td>\n",
              "    </tr>\n",
              "    <tr>\n",
              "      <th>Junho</th>\n",
              "      <td>0.026351</td>\n",
              "      <td>0.041376</td>\n",
              "      <td>-0.005975</td>\n",
              "      <td>-0.009538</td>\n",
              "      <td>0.030876</td>\n",
              "      <td>0.025302</td>\n",
              "      <td>-0.019964</td>\n",
              "      <td>-0.024638</td>\n",
              "      <td>-0.007610</td>\n",
              "      <td>0.025754</td>\n",
              "      <td>...</td>\n",
              "      <td>-0.116574</td>\n",
              "      <td>-0.109364</td>\n",
              "      <td>-0.100415</td>\n",
              "      <td>-0.104055</td>\n",
              "      <td>-0.090775</td>\n",
              "      <td>-0.091214</td>\n",
              "      <td>-0.001761</td>\n",
              "      <td>-0.004454</td>\n",
              "      <td>-0.014644</td>\n",
              "      <td>0.022709</td>\n",
              "    </tr>\n",
              "    <tr>\n",
              "      <th>Julho</th>\n",
              "      <td>-0.005444</td>\n",
              "      <td>0.015976</td>\n",
              "      <td>-0.000545</td>\n",
              "      <td>-0.018618</td>\n",
              "      <td>0.018517</td>\n",
              "      <td>0.014506</td>\n",
              "      <td>-0.015566</td>\n",
              "      <td>-0.009346</td>\n",
              "      <td>-0.003245</td>\n",
              "      <td>0.010136</td>\n",
              "      <td>...</td>\n",
              "      <td>1.000000</td>\n",
              "      <td>-0.109276</td>\n",
              "      <td>-0.100335</td>\n",
              "      <td>-0.103972</td>\n",
              "      <td>-0.090703</td>\n",
              "      <td>-0.091141</td>\n",
              "      <td>0.003057</td>\n",
              "      <td>-0.004144</td>\n",
              "      <td>-0.009898</td>\n",
              "      <td>0.012106</td>\n",
              "    </tr>\n",
              "    <tr>\n",
              "      <th>Agosto</th>\n",
              "      <td>-0.006941</td>\n",
              "      <td>0.014217</td>\n",
              "      <td>-0.001609</td>\n",
              "      <td>0.014879</td>\n",
              "      <td>0.016025</td>\n",
              "      <td>0.011708</td>\n",
              "      <td>0.015632</td>\n",
              "      <td>0.012256</td>\n",
              "      <td>-0.012535</td>\n",
              "      <td>0.003880</td>\n",
              "      <td>...</td>\n",
              "      <td>-0.109276</td>\n",
              "      <td>1.000000</td>\n",
              "      <td>-0.094130</td>\n",
              "      <td>-0.097542</td>\n",
              "      <td>-0.085093</td>\n",
              "      <td>-0.085504</td>\n",
              "      <td>0.001575</td>\n",
              "      <td>0.004870</td>\n",
              "      <td>-0.013292</td>\n",
              "      <td>0.007219</td>\n",
              "    </tr>\n",
              "    <tr>\n",
              "      <th>Setembro</th>\n",
              "      <td>0.013205</td>\n",
              "      <td>0.017674</td>\n",
              "      <td>0.004658</td>\n",
              "      <td>0.017712</td>\n",
              "      <td>0.007687</td>\n",
              "      <td>0.017663</td>\n",
              "      <td>-0.011539</td>\n",
              "      <td>-0.009546</td>\n",
              "      <td>-0.002801</td>\n",
              "      <td>0.009828</td>\n",
              "      <td>...</td>\n",
              "      <td>-0.100335</td>\n",
              "      <td>-0.094130</td>\n",
              "      <td>1.000000</td>\n",
              "      <td>-0.089561</td>\n",
              "      <td>-0.078130</td>\n",
              "      <td>-0.078508</td>\n",
              "      <td>-0.009777</td>\n",
              "      <td>-0.004181</td>\n",
              "      <td>0.012430</td>\n",
              "      <td>0.001661</td>\n",
              "    </tr>\n",
              "    <tr>\n",
              "      <th>Outubro</th>\n",
              "      <td>-0.006675</td>\n",
              "      <td>-0.016222</td>\n",
              "      <td>0.024297</td>\n",
              "      <td>-0.006521</td>\n",
              "      <td>-0.017881</td>\n",
              "      <td>0.000460</td>\n",
              "      <td>-0.003206</td>\n",
              "      <td>-0.000754</td>\n",
              "      <td>0.027722</td>\n",
              "      <td>-0.027802</td>\n",
              "      <td>...</td>\n",
              "      <td>-0.103972</td>\n",
              "      <td>-0.097542</td>\n",
              "      <td>-0.089561</td>\n",
              "      <td>1.000000</td>\n",
              "      <td>-0.080962</td>\n",
              "      <td>-0.081354</td>\n",
              "      <td>-0.019228</td>\n",
              "      <td>0.016557</td>\n",
              "      <td>0.008069</td>\n",
              "      <td>-0.006880</td>\n",
              "    </tr>\n",
              "    <tr>\n",
              "      <th>Novembro</th>\n",
              "      <td>-0.005982</td>\n",
              "      <td>-0.014001</td>\n",
              "      <td>0.008863</td>\n",
              "      <td>-0.003583</td>\n",
              "      <td>0.022425</td>\n",
              "      <td>-0.022047</td>\n",
              "      <td>-0.000718</td>\n",
              "      <td>0.031044</td>\n",
              "      <td>-0.021033</td>\n",
              "      <td>-0.001132</td>\n",
              "      <td>...</td>\n",
              "      <td>-0.090703</td>\n",
              "      <td>-0.085093</td>\n",
              "      <td>-0.078130</td>\n",
              "      <td>-0.080962</td>\n",
              "      <td>1.000000</td>\n",
              "      <td>-0.070971</td>\n",
              "      <td>0.005140</td>\n",
              "      <td>-0.002521</td>\n",
              "      <td>-0.007885</td>\n",
              "      <td>0.005889</td>\n",
              "    </tr>\n",
              "    <tr>\n",
              "      <th>Dezembro</th>\n",
              "      <td>-0.005363</td>\n",
              "      <td>-0.007259</td>\n",
              "      <td>-0.004728</td>\n",
              "      <td>-0.026854</td>\n",
              "      <td>-0.000320</td>\n",
              "      <td>0.001526</td>\n",
              "      <td>0.009996</td>\n",
              "      <td>0.006341</td>\n",
              "      <td>0.000851</td>\n",
              "      <td>-0.005495</td>\n",
              "      <td>...</td>\n",
              "      <td>-0.091141</td>\n",
              "      <td>-0.085504</td>\n",
              "      <td>-0.078508</td>\n",
              "      <td>-0.081354</td>\n",
              "      <td>-0.070971</td>\n",
              "      <td>1.000000</td>\n",
              "      <td>0.012106</td>\n",
              "      <td>0.003857</td>\n",
              "      <td>-0.027067</td>\n",
              "      <td>0.012048</td>\n",
              "    </tr>\n",
              "    <tr>\n",
              "      <th>1 quartile zone</th>\n",
              "      <td>-0.096145</td>\n",
              "      <td>-0.119681</td>\n",
              "      <td>-0.016810</td>\n",
              "      <td>-0.025857</td>\n",
              "      <td>-0.034426</td>\n",
              "      <td>-0.039852</td>\n",
              "      <td>0.117679</td>\n",
              "      <td>-0.032054</td>\n",
              "      <td>0.044898</td>\n",
              "      <td>-0.022538</td>\n",
              "      <td>...</td>\n",
              "      <td>0.003057</td>\n",
              "      <td>0.001575</td>\n",
              "      <td>-0.009777</td>\n",
              "      <td>-0.019228</td>\n",
              "      <td>0.005140</td>\n",
              "      <td>0.012106</td>\n",
              "      <td>1.000000</td>\n",
              "      <td>-0.365591</td>\n",
              "      <td>-0.335371</td>\n",
              "      <td>-0.290189</td>\n",
              "    </tr>\n",
              "    <tr>\n",
              "      <th>2 quartiles zones</th>\n",
              "      <td>-0.045968</td>\n",
              "      <td>-0.045392</td>\n",
              "      <td>0.000609</td>\n",
              "      <td>-0.024101</td>\n",
              "      <td>0.009191</td>\n",
              "      <td>-0.047249</td>\n",
              "      <td>0.047200</td>\n",
              "      <td>-0.018638</td>\n",
              "      <td>0.029770</td>\n",
              "      <td>-0.016852</td>\n",
              "      <td>...</td>\n",
              "      <td>-0.004144</td>\n",
              "      <td>0.004870</td>\n",
              "      <td>-0.004181</td>\n",
              "      <td>0.016557</td>\n",
              "      <td>-0.002521</td>\n",
              "      <td>0.003857</td>\n",
              "      <td>-0.365591</td>\n",
              "      <td>1.000000</td>\n",
              "      <td>-0.377682</td>\n",
              "      <td>-0.326800</td>\n",
              "    </tr>\n",
              "    <tr>\n",
              "      <th>3 quartiles zones</th>\n",
              "      <td>0.122688</td>\n",
              "      <td>-0.042760</td>\n",
              "      <td>0.030445</td>\n",
              "      <td>0.058024</td>\n",
              "      <td>0.027872</td>\n",
              "      <td>-0.025187</td>\n",
              "      <td>-0.088626</td>\n",
              "      <td>0.097907</td>\n",
              "      <td>-0.024251</td>\n",
              "      <td>-0.046613</td>\n",
              "      <td>...</td>\n",
              "      <td>-0.009898</td>\n",
              "      <td>-0.013292</td>\n",
              "      <td>0.012430</td>\n",
              "      <td>0.008069</td>\n",
              "      <td>-0.007885</td>\n",
              "      <td>-0.027067</td>\n",
              "      <td>-0.335371</td>\n",
              "      <td>-0.377682</td>\n",
              "      <td>1.000000</td>\n",
              "      <td>-0.299787</td>\n",
              "    </tr>\n",
              "    <tr>\n",
              "      <th>4 quartiles zones</th>\n",
              "      <td>0.021302</td>\n",
              "      <td>0.224532</td>\n",
              "      <td>-0.015715</td>\n",
              "      <td>-0.008133</td>\n",
              "      <td>-0.003843</td>\n",
              "      <td>0.122717</td>\n",
              "      <td>-0.082410</td>\n",
              "      <td>-0.050793</td>\n",
              "      <td>-0.054999</td>\n",
              "      <td>0.093299</td>\n",
              "      <td>...</td>\n",
              "      <td>0.012106</td>\n",
              "      <td>0.007219</td>\n",
              "      <td>0.001661</td>\n",
              "      <td>-0.006880</td>\n",
              "      <td>0.005889</td>\n",
              "      <td>0.012048</td>\n",
              "      <td>-0.290189</td>\n",
              "      <td>-0.326800</td>\n",
              "      <td>-0.299787</td>\n",
              "      <td>1.000000</td>\n",
              "    </tr>\n",
              "  </tbody>\n",
              "</table>\n",
              "<p>34 rows × 34 columns</p>\n",
              "</div>\n",
              "    <div class=\"colab-df-buttons\">\n",
              "\n",
              "  <div class=\"colab-df-container\">\n",
              "    <button class=\"colab-df-convert\" onclick=\"convertToInteractive('df-9213f50a-d606-444b-b891-f092b59c8e75')\"\n",
              "            title=\"Convert this dataframe to an interactive table.\"\n",
              "            style=\"display:none;\">\n",
              "\n",
              "  <svg xmlns=\"http://www.w3.org/2000/svg\" height=\"24px\" viewBox=\"0 -960 960 960\">\n",
              "    <path d=\"M120-120v-720h720v720H120Zm60-500h600v-160H180v160Zm220 220h160v-160H400v160Zm0 220h160v-160H400v160ZM180-400h160v-160H180v160Zm440 0h160v-160H620v160ZM180-180h160v-160H180v160Zm440 0h160v-160H620v160Z\"/>\n",
              "  </svg>\n",
              "    </button>\n",
              "\n",
              "  <style>\n",
              "    .colab-df-container {\n",
              "      display:flex;\n",
              "      gap: 12px;\n",
              "    }\n",
              "\n",
              "    .colab-df-convert {\n",
              "      background-color: #E8F0FE;\n",
              "      border: none;\n",
              "      border-radius: 50%;\n",
              "      cursor: pointer;\n",
              "      display: none;\n",
              "      fill: #1967D2;\n",
              "      height: 32px;\n",
              "      padding: 0 0 0 0;\n",
              "      width: 32px;\n",
              "    }\n",
              "\n",
              "    .colab-df-convert:hover {\n",
              "      background-color: #E2EBFA;\n",
              "      box-shadow: 0px 1px 2px rgba(60, 64, 67, 0.3), 0px 1px 3px 1px rgba(60, 64, 67, 0.15);\n",
              "      fill: #174EA6;\n",
              "    }\n",
              "\n",
              "    .colab-df-buttons div {\n",
              "      margin-bottom: 4px;\n",
              "    }\n",
              "\n",
              "    [theme=dark] .colab-df-convert {\n",
              "      background-color: #3B4455;\n",
              "      fill: #D2E3FC;\n",
              "    }\n",
              "\n",
              "    [theme=dark] .colab-df-convert:hover {\n",
              "      background-color: #434B5C;\n",
              "      box-shadow: 0px 1px 3px 1px rgba(0, 0, 0, 0.15);\n",
              "      filter: drop-shadow(0px 1px 2px rgba(0, 0, 0, 0.3));\n",
              "      fill: #FFFFFF;\n",
              "    }\n",
              "  </style>\n",
              "\n",
              "    <script>\n",
              "      const buttonEl =\n",
              "        document.querySelector('#df-9213f50a-d606-444b-b891-f092b59c8e75 button.colab-df-convert');\n",
              "      buttonEl.style.display =\n",
              "        google.colab.kernel.accessAllowed ? 'block' : 'none';\n",
              "\n",
              "      async function convertToInteractive(key) {\n",
              "        const element = document.querySelector('#df-9213f50a-d606-444b-b891-f092b59c8e75');\n",
              "        const dataTable =\n",
              "          await google.colab.kernel.invokeFunction('convertToInteractive',\n",
              "                                                    [key], {});\n",
              "        if (!dataTable) return;\n",
              "\n",
              "        const docLinkHtml = 'Like what you see? Visit the ' +\n",
              "          '<a target=\"_blank\" href=https://colab.research.google.com/notebooks/data_table.ipynb>data table notebook</a>'\n",
              "          + ' to learn more about interactive tables.';\n",
              "        element.innerHTML = '';\n",
              "        dataTable['output_type'] = 'display_data';\n",
              "        await google.colab.output.renderOutput(dataTable, element);\n",
              "        const docLink = document.createElement('div');\n",
              "        docLink.innerHTML = docLinkHtml;\n",
              "        element.appendChild(docLink);\n",
              "      }\n",
              "    </script>\n",
              "  </div>\n",
              "\n",
              "\n",
              "<div id=\"df-28425be3-ffda-4e3f-8d36-45ea164148d6\">\n",
              "  <button class=\"colab-df-quickchart\" onclick=\"quickchart('df-28425be3-ffda-4e3f-8d36-45ea164148d6')\"\n",
              "            title=\"Suggest charts\"\n",
              "            style=\"display:none;\">\n",
              "\n",
              "<svg xmlns=\"http://www.w3.org/2000/svg\" height=\"24px\"viewBox=\"0 0 24 24\"\n",
              "     width=\"24px\">\n",
              "    <g>\n",
              "        <path d=\"M19 3H5c-1.1 0-2 .9-2 2v14c0 1.1.9 2 2 2h14c1.1 0 2-.9 2-2V5c0-1.1-.9-2-2-2zM9 17H7v-7h2v7zm4 0h-2V7h2v10zm4 0h-2v-4h2v4z\"/>\n",
              "    </g>\n",
              "</svg>\n",
              "  </button>\n",
              "\n",
              "<style>\n",
              "  .colab-df-quickchart {\n",
              "      --bg-color: #E8F0FE;\n",
              "      --fill-color: #1967D2;\n",
              "      --hover-bg-color: #E2EBFA;\n",
              "      --hover-fill-color: #174EA6;\n",
              "      --disabled-fill-color: #AAA;\n",
              "      --disabled-bg-color: #DDD;\n",
              "  }\n",
              "\n",
              "  [theme=dark] .colab-df-quickchart {\n",
              "      --bg-color: #3B4455;\n",
              "      --fill-color: #D2E3FC;\n",
              "      --hover-bg-color: #434B5C;\n",
              "      --hover-fill-color: #FFFFFF;\n",
              "      --disabled-bg-color: #3B4455;\n",
              "      --disabled-fill-color: #666;\n",
              "  }\n",
              "\n",
              "  .colab-df-quickchart {\n",
              "    background-color: var(--bg-color);\n",
              "    border: none;\n",
              "    border-radius: 50%;\n",
              "    cursor: pointer;\n",
              "    display: none;\n",
              "    fill: var(--fill-color);\n",
              "    height: 32px;\n",
              "    padding: 0;\n",
              "    width: 32px;\n",
              "  }\n",
              "\n",
              "  .colab-df-quickchart:hover {\n",
              "    background-color: var(--hover-bg-color);\n",
              "    box-shadow: 0 1px 2px rgba(60, 64, 67, 0.3), 0 1px 3px 1px rgba(60, 64, 67, 0.15);\n",
              "    fill: var(--button-hover-fill-color);\n",
              "  }\n",
              "\n",
              "  .colab-df-quickchart-complete:disabled,\n",
              "  .colab-df-quickchart-complete:disabled:hover {\n",
              "    background-color: var(--disabled-bg-color);\n",
              "    fill: var(--disabled-fill-color);\n",
              "    box-shadow: none;\n",
              "  }\n",
              "\n",
              "  .colab-df-spinner {\n",
              "    border: 2px solid var(--fill-color);\n",
              "    border-color: transparent;\n",
              "    border-bottom-color: var(--fill-color);\n",
              "    animation:\n",
              "      spin 1s steps(1) infinite;\n",
              "  }\n",
              "\n",
              "  @keyframes spin {\n",
              "    0% {\n",
              "      border-color: transparent;\n",
              "      border-bottom-color: var(--fill-color);\n",
              "      border-left-color: var(--fill-color);\n",
              "    }\n",
              "    20% {\n",
              "      border-color: transparent;\n",
              "      border-left-color: var(--fill-color);\n",
              "      border-top-color: var(--fill-color);\n",
              "    }\n",
              "    30% {\n",
              "      border-color: transparent;\n",
              "      border-left-color: var(--fill-color);\n",
              "      border-top-color: var(--fill-color);\n",
              "      border-right-color: var(--fill-color);\n",
              "    }\n",
              "    40% {\n",
              "      border-color: transparent;\n",
              "      border-right-color: var(--fill-color);\n",
              "      border-top-color: var(--fill-color);\n",
              "    }\n",
              "    60% {\n",
              "      border-color: transparent;\n",
              "      border-right-color: var(--fill-color);\n",
              "    }\n",
              "    80% {\n",
              "      border-color: transparent;\n",
              "      border-right-color: var(--fill-color);\n",
              "      border-bottom-color: var(--fill-color);\n",
              "    }\n",
              "    90% {\n",
              "      border-color: transparent;\n",
              "      border-bottom-color: var(--fill-color);\n",
              "    }\n",
              "  }\n",
              "</style>\n",
              "\n",
              "  <script>\n",
              "    async function quickchart(key) {\n",
              "      const quickchartButtonEl =\n",
              "        document.querySelector('#' + key + ' button');\n",
              "      quickchartButtonEl.disabled = true;  // To prevent multiple clicks.\n",
              "      quickchartButtonEl.classList.add('colab-df-spinner');\n",
              "      try {\n",
              "        const charts = await google.colab.kernel.invokeFunction(\n",
              "            'suggestCharts', [key], {});\n",
              "      } catch (error) {\n",
              "        console.error('Error during call to suggestCharts:', error);\n",
              "      }\n",
              "      quickchartButtonEl.classList.remove('colab-df-spinner');\n",
              "      quickchartButtonEl.classList.add('colab-df-quickchart-complete');\n",
              "    }\n",
              "    (() => {\n",
              "      let quickchartButtonEl =\n",
              "        document.querySelector('#df-28425be3-ffda-4e3f-8d36-45ea164148d6 button');\n",
              "      quickchartButtonEl.style.display =\n",
              "        google.colab.kernel.accessAllowed ? 'block' : 'none';\n",
              "    })();\n",
              "  </script>\n",
              "</div>\n",
              "\n",
              "  <div id=\"id_488d8797-4b46-4c83-b427-d906bd3941c1\">\n",
              "    <style>\n",
              "      .colab-df-generate {\n",
              "        background-color: #E8F0FE;\n",
              "        border: none;\n",
              "        border-radius: 50%;\n",
              "        cursor: pointer;\n",
              "        display: none;\n",
              "        fill: #1967D2;\n",
              "        height: 32px;\n",
              "        padding: 0 0 0 0;\n",
              "        width: 32px;\n",
              "      }\n",
              "\n",
              "      .colab-df-generate:hover {\n",
              "        background-color: #E2EBFA;\n",
              "        box-shadow: 0px 1px 2px rgba(60, 64, 67, 0.3), 0px 1px 3px 1px rgba(60, 64, 67, 0.15);\n",
              "        fill: #174EA6;\n",
              "      }\n",
              "\n",
              "      [theme=dark] .colab-df-generate {\n",
              "        background-color: #3B4455;\n",
              "        fill: #D2E3FC;\n",
              "      }\n",
              "\n",
              "      [theme=dark] .colab-df-generate:hover {\n",
              "        background-color: #434B5C;\n",
              "        box-shadow: 0px 1px 3px 1px rgba(0, 0, 0, 0.15);\n",
              "        filter: drop-shadow(0px 1px 2px rgba(0, 0, 0, 0.3));\n",
              "        fill: #FFFFFF;\n",
              "      }\n",
              "    </style>\n",
              "    <button class=\"colab-df-generate\" onclick=\"generateWithVariable('dataframe_correlacao')\"\n",
              "            title=\"Generate code using this dataframe.\"\n",
              "            style=\"display:none;\">\n",
              "\n",
              "  <svg xmlns=\"http://www.w3.org/2000/svg\" height=\"24px\"viewBox=\"0 0 24 24\"\n",
              "       width=\"24px\">\n",
              "    <path d=\"M7,19H8.4L18.45,9,17,7.55,7,17.6ZM5,21V16.75L18.45,3.32a2,2,0,0,1,2.83,0l1.4,1.43a1.91,1.91,0,0,1,.58,1.4,1.91,1.91,0,0,1-.58,1.4L9.25,21ZM18.45,9,17,7.55Zm-12,3A5.31,5.31,0,0,0,4.9,8.1,5.31,5.31,0,0,0,1,6.5,5.31,5.31,0,0,0,4.9,4.9,5.31,5.31,0,0,0,6.5,1,5.31,5.31,0,0,0,8.1,4.9,5.31,5.31,0,0,0,12,6.5,5.46,5.46,0,0,0,6.5,12Z\"/>\n",
              "  </svg>\n",
              "    </button>\n",
              "    <script>\n",
              "      (() => {\n",
              "      const buttonEl =\n",
              "        document.querySelector('#id_488d8797-4b46-4c83-b427-d906bd3941c1 button.colab-df-generate');\n",
              "      buttonEl.style.display =\n",
              "        google.colab.kernel.accessAllowed ? 'block' : 'none';\n",
              "\n",
              "      buttonEl.onclick = () => {\n",
              "        google.colab.notebook.generateWithVariable('dataframe_correlacao');\n",
              "      }\n",
              "      })();\n",
              "    </script>\n",
              "  </div>\n",
              "\n",
              "    </div>\n",
              "  </div>\n"
            ],
            "application/vnd.google.colaboratory.intrinsic+json": {
              "type": "dataframe",
              "variable_name": "dataframe_correlacao"
            }
          },
          "metadata": {},
          "execution_count": 298
        }
      ]
    },
    {
      "cell_type": "markdown",
      "source": [
        "Mapa de calor"
      ],
      "metadata": {
        "id": "rpZtK8imZXf6"
      }
    },
    {
      "cell_type": "code",
      "source": [
        "import matplotlib.pyplot as plt\n",
        "import seaborn as sns"
      ],
      "metadata": {
        "id": "j2gjTWcJZZno"
      },
      "execution_count": null,
      "outputs": []
    },
    {
      "cell_type": "code",
      "source": [
        "plt.figure(figsize = (12, 10))\n",
        "paleta = sns.color_palette(\"light:salmon\", as_cmap = True)\n",
        "sns.heatmap(dataframe_correlacao.round(1), annot = True, cmap = paleta)"
      ],
      "metadata": {
        "colab": {
          "base_uri": "https://localhost:8080/",
          "height": 960
        },
        "id": "oiQzJuFaZga1",
        "outputId": "eced8eeb-c804-430c-cadc-8dc5847e10a4"
      },
      "execution_count": null,
      "outputs": [
        {
          "output_type": "execute_result",
          "data": {
            "text/plain": [
              "<Axes: >"
            ]
          },
          "metadata": {},
          "execution_count": 300
        },
        {
          "output_type": "display_data",
          "data": {
            "text/plain": [
              "<Figure size 1200x1000 with 2 Axes>"
            ],
            "image/png": "[encoded data removed]"
          },
          "metadata": {}
        }
      ]
    },
    {
      "cell_type": "markdown",
      "source": [
        "Ajuste e Previsão"
      ],
      "metadata": {
        "id": "4_bWdbfl8OI0"
      }
    },
    {
      "cell_type": "code",
      "source": [
        "from pyspark.ml.regression import LinearRegression"
      ],
      "metadata": {
        "id": "wM8iN1Nc8Nrq"
      },
      "execution_count": null,
      "outputs": []
    },
    {
      "cell_type": "code",
      "source": [
        "treino, teste = dataset_prep.randomSplit([0.7, 0.3], seed = 101)"
      ],
      "metadata": {
        "id": "4Z1M4sA99ORu"
      },
      "execution_count": null,
      "outputs": []
    },
    {
      "cell_type": "code",
      "source": [
        "treino.count()"
      ],
      "metadata": {
        "colab": {
          "base_uri": "https://localhost:8080/"
        },
        "id": "_ABqk5kC9lNO",
        "outputId": "a982a85a-504a-41bb-fe67-e46c43eeecb7"
      },
      "execution_count": null,
      "outputs": [
        {
          "output_type": "execute_result",
          "data": {
            "text/plain": [
              "4689"
            ]
          },
          "metadata": {},
          "execution_count": 303
        }
      ]
    },
    {
      "cell_type": "code",
      "source": [
        "teste.count()"
      ],
      "metadata": {
        "colab": {
          "base_uri": "https://localhost:8080/"
        },
        "id": "wZY76K_b9ou6",
        "outputId": "749ddb5b-2591-4a77-f94d-df1de40f1bc1"
      },
      "execution_count": null,
      "outputs": [
        {
          "output_type": "execute_result",
          "data": {
            "text/plain": [
              "2011"
            ]
          },
          "metadata": {},
          "execution_count": 304
        }
      ]
    },
    {
      "cell_type": "code",
      "source": [
        "lr = LinearRegression()"
      ],
      "metadata": {
        "id": "pv8y4VPW9q5o"
      },
      "execution_count": null,
      "outputs": []
    },
    {
      "cell_type": "code",
      "source": [
        "modelo_lr = lr.fit(treino)"
      ],
      "metadata": {
        "id": "30yHXtUy9us3"
      },
      "execution_count": null,
      "outputs": []
    },
    {
      "cell_type": "code",
      "source": [
        "previsoes_lr_treino = modelo_lr.transform(treino)"
      ],
      "metadata": {
        "id": "NrXbnSws904N"
      },
      "execution_count": null,
      "outputs": []
    },
    {
      "cell_type": "code",
      "source": [
        "previsoes_lr_treino.show()"
      ],
      "metadata": {
        "colab": {
          "base_uri": "https://localhost:8080/"
        },
        "id": "UIxP3W9wBIZW",
        "outputId": "2d96896d-a623-45a2-921a-4958bfa3e0a0"
      },
      "execution_count": null,
      "outputs": [
        {
          "output_type": "stream",
          "name": "stdout",
          "text": [
            "+--------------------+-------+-----------------+\n",
            "|            features|  label|       prediction|\n",
            "+--------------------+-------+-----------------+\n",
            "|(34,[0,1,2,3,4,5,...| 835000|699833.2529778669|\n",
            "|(34,[0,1,2,3,5,6,...| 503000|593383.2946059058|\n",
            "|(34,[0,1,2,3,5,6,...| 550000|738018.1557233301|\n",
            "|(34,[0,1,2,3,5,6,...| 900000|663507.8239520056|\n",
            "|(34,[0,1,2,3,5,6,...| 630000|677397.2110888949|\n",
            "|(34,[0,1,2,3,5,6,...|1135000| 914683.712724058|\n",
            "|(34,[0,1,2,3,5,7,...| 655000|530455.8258774832|\n",
            "|(34,[0,1,2,3,5,7,...| 787500|514360.6192643516|\n",
            "|(34,[0,1,2,3,5,8,...| 818000| 726890.426002627|\n",
            "|(34,[0,1,2,3,5,8,...| 667000|633997.4624870126|\n",
            "|(34,[0,1,2,3,5,8,...|1101000|848551.4233084763|\n",
            "|(34,[0,1,2,3,5,9,...| 550000|843838.5818863783|\n",
            "|(34,[0,1,2,3,8,11...| 283000|425348.7822636355|\n",
            "|(34,[0,1,2,3,9,11...| 400000|617578.8560565391|\n",
            "|(34,[0,1,2,3,9,13...| 991700|844256.3320932596|\n",
            "|(34,[0,1,2,4,5,6,...| 456700|504336.9067156958|\n",
            "|(34,[0,1,2,4,5,9,...| 614000| 661393.734039178|\n",
            "|(34,[0,1,2,4,9,12...|1000000| 851278.430859552|\n",
            "|(34,[0,1,2,5,6,7,...| 538000|566712.1185478845|\n",
            "|(34,[0,1,2,5,6,7,...| 509250|604899.6931477052|\n",
            "+--------------------+-------+-----------------+\n",
            "only showing top 20 rows\n",
            "\n"
          ]
        }
      ]
    },
    {
      "cell_type": "markdown",
      "source": [
        "Métricas"
      ],
      "metadata": {
        "id": "_HnacElGBU0B"
      }
    },
    {
      "cell_type": "code",
      "source": [
        "resumo_treino = modelo_lr.summary"
      ],
      "metadata": {
        "id": "FZvNYAKcBQsu"
      },
      "execution_count": null,
      "outputs": []
    },
    {
      "cell_type": "code",
      "source": [
        "resumo_treino.r2"
      ],
      "metadata": {
        "colab": {
          "base_uri": "https://localhost:8080/"
        },
        "id": "HkKDZAUXBfsF",
        "outputId": "3f91ada3-c95d-42aa-8fe9-30e7eeb1c86a"
      },
      "execution_count": null,
      "outputs": [
        {
          "output_type": "execute_result",
          "data": {
            "text/plain": [
              "0.7553031544990167"
            ]
          },
          "metadata": {},
          "execution_count": 310
        }
      ]
    },
    {
      "cell_type": "code",
      "source": [
        "resumo_treino.rootMeanSquaredError"
      ],
      "metadata": {
        "colab": {
          "base_uri": "https://localhost:8080/"
        },
        "id": "mEHLbLRDGZQn",
        "outputId": "2e2e4b7a-486d-43b4-ad05-3f38d79286af"
      },
      "execution_count": null,
      "outputs": [
        {
          "output_type": "execute_result",
          "data": {
            "text/plain": [
              "103430.46900042251"
            ]
          },
          "metadata": {},
          "execution_count": 311
        }
      ]
    },
    {
      "cell_type": "code",
      "source": [
        "resumo_teste = modelo_lr.evaluate(teste)"
      ],
      "metadata": {
        "id": "bydDBlY8GcOb"
      },
      "execution_count": null,
      "outputs": []
    },
    {
      "cell_type": "code",
      "source": [
        "resumo_teste.r2"
      ],
      "metadata": {
        "colab": {
          "base_uri": "https://localhost:8080/"
        },
        "id": "WhJ7n17gGgw7",
        "outputId": "0b0e5624-3d96-491c-d98d-3d2d18acf7d1"
      },
      "execution_count": null,
      "outputs": [
        {
          "output_type": "execute_result",
          "data": {
            "text/plain": [
              "0.7405255140943134"
            ]
          },
          "metadata": {},
          "execution_count": 313
        }
      ]
    },
    {
      "cell_type": "code",
      "source": [
        "resumo_teste.rootMeanSquaredError"
      ],
      "metadata": {
        "colab": {
          "base_uri": "https://localhost:8080/"
        },
        "id": "6XirCxnjGjs7",
        "outputId": "58d5df72-7c77-499a-df94-9f9c86be5141"
      },
      "execution_count": null,
      "outputs": [
        {
          "output_type": "execute_result",
          "data": {
            "text/plain": [
              "104693.22813947001"
            ]
          },
          "metadata": {},
          "execution_count": 314
        }
      ]
    },
    {
      "cell_type": "markdown",
      "source": [
        "Tabela Resumo Regressão Linear"
      ],
      "metadata": {
        "id": "qi8PQ7lzJcyv"
      }
    },
    {
      "cell_type": "code",
      "source": [
        "print(\"Linear Regression\")\n",
        "print(\"=\"*30)\n",
        "print(\"Dados de Treino\")\n",
        "print(\"=\"*30)\n",
        "print(\"R²: %f\" % resumo_treino.r2)\n",
        "print(\"RMSE: %f\" % resumo_treino.rootMeanSquaredError)\n",
        "print(\"\")\n",
        "print(\"=\"*30)\n",
        "print(\"Dados de Teste\")\n",
        "print(\"=\"*30)\n",
        "print(\"R²: %f\" % resumo_teste.r2)\n",
        "print(\"RMSE: %f\" % resumo_teste.rootMeanSquaredError)"
      ],
      "metadata": {
        "colab": {
          "base_uri": "https://localhost:8080/"
        },
        "id": "qYf1LXSrJcCq",
        "outputId": "f02a099e-0143-4fc4-c4a6-f285a4662604"
      },
      "execution_count": null,
      "outputs": [
        {
          "output_type": "stream",
          "name": "stdout",
          "text": [
            "Linear Regression\n",
            "==============================\n",
            "Dados de Treino\n",
            "==============================\n",
            "R²: 0.755303\n",
            "RMSE: 103430.469000\n",
            "\n",
            "==============================\n",
            "Dados de Teste\n",
            "==============================\n",
            "R²: 0.740526\n",
            "RMSE: 104693.228139\n"
          ]
        }
      ]
    },
    {
      "cell_type": "markdown",
      "source": [
        "Prevendo resultados"
      ],
      "metadata": {
        "id": "a-zrp-XvMSvM"
      }
    },
    {
      "cell_type": "code",
      "source": [
        "dataset.show(15)"
      ],
      "metadata": {
        "colab": {
          "base_uri": "https://localhost:8080/"
        },
        "id": "BaRtbusjLjGP",
        "outputId": "d9778a20-ce2a-45b6-93a1-861b0c118569"
      },
      "execution_count": null,
      "outputs": [
        {
          "output_type": "stream",
          "name": "stdout",
          "text": [
            "+----+------------+------------------+---------+---------+-----------------+------------+------------+------+---------+----------+----------+-------+--------+--------+--------+--------+---------------+----------------+----------------+-----+------+--------+---------+-------+-----+-----+----+-----+--------+-------+--------+---------------+-----------------+-----------------+-----------------+\n",
            "|  ID|has_basement|      living_in_m2|renovated|nice_view|perfect_condition|has_lavatory|single_floor| label|1 bedroom|2 bedrooms|3 bedrooms|1 grade|2 grades|3 grades|4 grades|5 grades|1 real bathroom|2 real bathrooms|3 real bathrooms|Abril|Agosto|Dezembro|Fevereiro|Janeiro|Julho|Junho|Maio|Março|Novembro|Outubro|Setembro|1 quartile zone|2 quartiles zones|3 quartiles zones|4 quartiles zones|\n",
            "+----+------------+------------------+---------+---------+-----------------+------------+------------+------+---------+----------+----------+-------+--------+--------+--------+--------+---------------+----------------+----------------+-----+------+--------+---------+-------+-----+-----+----+-----+--------+-------+--------+---------------+-----------------+-----------------+-----------------+\n",
            "|2040|           0|         103.12233|        0|        0|                0|           0|           0|560000|        0|         1|         0|      0|       1|       0|       0|       0|              1|               0|               0|    1|     0|       0|        0|      0|    0|    0|   0|    0|       0|      0|       0|              0|                0|                1|                0|\n",
            "|1697|           0|         123.56099|        0|        0|                0|           0|           1|235867|        0|         0|         1|      1|       0|       0|       0|       0|              0|               1|               0|    0|     0|       0|        0|      0|    0|    1|   0|    0|       0|      0|       0|              0|                1|                0|                0|\n",
            "|2509|           0|         163.50928|        0|        0|                0|           0|           0|780500|        0|         0|         1|      0|       0|       1|       0|       0|              1|               0|               0|    0|     1|       0|        0|      0|    0|    0|   0|    0|       0|      0|       0|              0|                0|                0|                1|\n",
            "|1950|           0|         267.56064|        0|        0|                0|           0|           0|780000|        0|         0|         1|      0|       0|       1|       0|       0|              0|               1|               0|    0|     1|       0|        0|      0|    0|    0|   0|    0|       0|      0|       0|              0|                0|                1|                0|\n",
            "|5556|           0|         171.87055|        0|        0|                0|           1|           0|515000|        0|         0|         1|      0|       0|       1|       0|       0|              0|               1|               0|    1|     0|       0|        0|      0|    0|    0|   0|    0|       0|      0|       0|              0|                1|                0|                0|\n",
            "|4894|           1|         360.46364|        0|        0|                0|           1|           0|917500|        0|         0|         1|      0|       0|       0|       0|       1|              0|               1|               0|    0|     0|       0|        0|      1|    0|    0|   0|    0|       0|      0|       0|              0|                0|                0|                1|\n",
            "| 474|           0|        239.503934|        0|        0|                0|           1|           0|400950|        0|         0|         1|      0|       0|       0|       1|       0|              0|               1|               0|    0|     0|       0|        0|      0|    0|    0|   0|    0|       1|      0|       0|              1|                0|                0|                0|\n",
            "|3764|           0|         128.20614|        0|        0|                0|           0|           1|300000|        0|         1|         0|      0|       1|       0|       0|       0|              1|               0|               0|    1|     0|       0|        0|      0|    0|    0|   0|    0|       0|      0|       0|              1|                0|                0|                0|\n",
            "|2214|           0|          91.97397|        0|        0|                0|           0|           1|210490|        0|         1|         0|      1|       0|       0|       0|       0|              1|               0|               0|    0|     0|       0|        0|      0|    0|    0|   0|    1|       0|      0|       0|              1|                0|                0|                0|\n",
            "|2250|           0|122.63195999999999|        0|        0|                0|           0|           1|215000|        1|         0|         0|      1|       0|       0|       0|       0|              1|               0|               0|    0|     0|       0|        0|      0|    0|    0|   1|    0|       0|      0|       0|              1|                0|                0|                0|\n",
            "|  26|           0|         271.27676|        0|        0|                0|           1|           0|730000|        0|         0|         1|      0|       0|       0|       1|       0|              0|               1|               0|    0|     0|       0|        0|      0|    0|    0|   0|    0|       0|      1|       0|              0|                0|                0|                1|\n",
            "|4590|           0|           185.806|        0|        0|                0|           1|           0|290000|        0|         1|         0|      0|       1|       0|       0|       0|              0|               1|               0|    0|     0|       0|        0|      0|    1|    0|   0|    0|       0|      0|       0|              0|                1|                0|                0|\n",
            "|5409|           0|         110.55457|        0|        0|                0|           1|           1|290000|        0|         1|         0|      0|       1|       0|       0|       0|              0|               1|               0|    0|     0|       0|        0|      0|    0|    0|   0|    0|       0|      1|       0|              1|                0|                0|                0|\n",
            "|4823|           0|         295.43154|        0|        0|                0|           1|           0|800866|        0|         0|         1|      0|       0|       0|       0|       1|              0|               1|               0|    0|     0|       0|        0|      0|    0|    0|   1|    0|       0|      0|       0|              0|                0|                0|                1|\n",
            "| 964|           0|          130.0642|        0|        0|                0|           0|           1|380000|        0|         1|         0|      0|       1|       0|       0|       0|              1|               0|               0|    0|     0|       0|        1|      0|    0|    0|   0|    0|       0|      0|       0|              1|                0|                0|                0|\n",
            "+----+------------+------------------+---------+---------+-----------------+------------+------------+------+---------+----------+----------+-------+--------+--------+--------+--------+---------------+----------------+----------------+-----+------+--------+---------+-------+-----+-----+----+-----+--------+-------+--------+---------------+-----------------+-----------------+-----------------+\n",
            "only showing top 15 rows\n",
            "\n"
          ]
        }
      ]
    },
    {
      "cell_type": "code",
      "source": [
        "X"
      ],
      "metadata": {
        "colab": {
          "base_uri": "https://localhost:8080/"
        },
        "id": "AmnrDNwqMuvL",
        "outputId": "e8e9859d-5b27-48fa-d19f-ea89b82de6b2"
      },
      "execution_count": null,
      "outputs": [
        {
          "output_type": "execute_result",
          "data": {
            "text/plain": [
              "['has_basement',\n",
              " 'living_in_m2',\n",
              " 'renovated',\n",
              " 'nice_view',\n",
              " 'perfect_condition',\n",
              " 'has_lavatory',\n",
              " 'single_floor',\n",
              " '1 bedroom',\n",
              " '2 bedrooms',\n",
              " '3 bedrooms',\n",
              " '1 grade',\n",
              " '2 grades',\n",
              " '3 grades',\n",
              " '4 grades',\n",
              " '5 grades',\n",
              " '1 real bathroom',\n",
              " '2 real bathrooms',\n",
              " '3 real bathrooms',\n",
              " 'Janeiro',\n",
              " 'Fevereiro',\n",
              " 'Março',\n",
              " 'Abril',\n",
              " 'Maio',\n",
              " 'Junho',\n",
              " 'Julho',\n",
              " 'Agosto',\n",
              " 'Setembro',\n",
              " 'Outubro',\n",
              " 'Novembro',\n",
              " 'Dezembro',\n",
              " '1 quartile zone',\n",
              " '2 quartiles zones',\n",
              " '3 quartiles zones',\n",
              " '4 quartiles zones']"
            ]
          },
          "metadata": {},
          "execution_count": 317
        }
      ]
    },
    {
      "cell_type": "code",
      "source": [
        "novo_imovel = [{\n",
        " 'has_basement':2,\n",
        " 'living_in_m2':103,\n",
        " 'renovated':1,\n",
        " 'nice_view':1,\n",
        " 'perfect_condition':1,\n",
        " 'has_lavatory':1,\n",
        " 'single_floor':1 ,\n",
        " '1 bedroom':0 ,\n",
        " '2 bedrooms':0,\n",
        " '3 bedrooms':1,\n",
        " '1 grade':0,\n",
        " '2 grades':0,\n",
        " '3 grades':1,\n",
        " '4 grades':0,\n",
        " '5 grades':0,\n",
        " '1 real bathroom':1,\n",
        " '2 real bathrooms':0,\n",
        " '3 real bathrooms':0,\n",
        " 'Janeiro':1,\n",
        " 'Fevereiro':0,\n",
        " 'Março':0,\n",
        " 'Abril':0,\n",
        " 'Maio':0,\n",
        " 'Junho':0,\n",
        " 'Julho':0,\n",
        " 'Agosto':0,\n",
        " 'Setembro':0,\n",
        " 'Outubro':0,\n",
        " 'Novembro':0,\n",
        " 'Dezembro':0,\n",
        " '1 quartile zone':0,\n",
        " '2 quartiles zones':0,\n",
        " '3 quartiles zones':1,\n",
        " '4 quartiles zones':0,\n",
        " 'label':0}]"
      ],
      "metadata": {
        "id": "X0_UnybhNpt8"
      },
      "execution_count": null,
      "outputs": []
    },
    {
      "cell_type": "code",
      "source": [
        "meu_imovel = spark.createDataFrame(novo_imovel)"
      ],
      "metadata": {
        "id": "8yG3qZloPI5m"
      },
      "execution_count": null,
      "outputs": []
    },
    {
      "cell_type": "code",
      "source": [
        "meu_imovel.show()"
      ],
      "metadata": {
        "colab": {
          "base_uri": "https://localhost:8080/"
        },
        "id": "IOIsH6GFPs8m",
        "outputId": "f0f76965-e8bb-4016-a9c2-fc22c845476b"
      },
      "execution_count": null,
      "outputs": [
        {
          "output_type": "stream",
          "name": "stdout",
          "text": [
            "+---------+-------+---------------+---------------+----------+--------+-----------------+----------------+----------+--------+-----------------+----------------+--------+-----------------+--------+-----+------+--------+---------+-------+-----+-----+----+-----+--------+-------+--------+------------+------------+-----+------------+---------+-----------------+---------+------------+\n",
            "|1 bedroom|1 grade|1 quartile zone|1 real bathroom|2 bedrooms|2 grades|2 quartiles zones|2 real bathrooms|3 bedrooms|3 grades|3 quartiles zones|3 real bathrooms|4 grades|4 quartiles zones|5 grades|Abril|Agosto|Dezembro|Fevereiro|Janeiro|Julho|Junho|Maio|Março|Novembro|Outubro|Setembro|has_basement|has_lavatory|label|living_in_m2|nice_view|perfect_condition|renovated|single_floor|\n",
            "+---------+-------+---------------+---------------+----------+--------+-----------------+----------------+----------+--------+-----------------+----------------+--------+-----------------+--------+-----+------+--------+---------+-------+-----+-----+----+-----+--------+-------+--------+------------+------------+-----+------------+---------+-----------------+---------+------------+\n",
            "|        0|      0|              0|              1|         0|       0|                0|               0|         1|       1|                1|               0|       0|                0|       0|    0|     0|       0|        0|      1|    0|    0|   0|    0|       0|      0|       0|           2|           1|    0|         103|        1|                1|        1|           1|\n",
            "+---------+-------+---------------+---------------+----------+--------+-----------------+----------------+----------+--------+-----------------+----------------+--------+-----------------+--------+-----+------+--------+---------+-------+-----+-----+----+-----+--------+-------+--------+------------+------------+-----+------------+---------+-----------------+---------+------------+\n",
            "\n"
          ]
        }
      ]
    },
    {
      "cell_type": "code",
      "source": [
        "assembler = VectorAssembler(inputCols = X, outputCol = \"features\")"
      ],
      "metadata": {
        "id": "icvDR_C2QHVU"
      },
      "execution_count": null,
      "outputs": []
    },
    {
      "cell_type": "code",
      "source": [
        "meu_lar_vetorizado = assembler.transform(meu_imovel).select(\"features\", \"label\")"
      ],
      "metadata": {
        "id": "8WDeopffQRrZ"
      },
      "execution_count": null,
      "outputs": []
    },
    {
      "cell_type": "code",
      "source": [
        "meu_lar_vetorizado.show()"
      ],
      "metadata": {
        "colab": {
          "base_uri": "https://localhost:8080/"
        },
        "id": "daNBJm4wSPSh",
        "outputId": "71ecb284-74c7-4f3f-bf97-d2b6fec8bfaf"
      },
      "execution_count": null,
      "outputs": [
        {
          "output_type": "stream",
          "name": "stdout",
          "text": [
            "+--------------------+-----+\n",
            "|            features|label|\n",
            "+--------------------+-----+\n",
            "|(34,[0,1,2,3,4,5,...|    0|\n",
            "+--------------------+-----+\n",
            "\n"
          ]
        }
      ]
    },
    {
      "cell_type": "code",
      "source": [
        "# prompt: Prever price do meu_lar_vetorizado\n",
        "\n",
        "previsao = modelo_lr.transform(meu_lar_vetorizado)\n",
        "print(f\"O preço previsto para o imóvel é de: {previsao.select('prediction').collect()[0][0]}\")\n"
      ],
      "metadata": {
        "colab": {
          "base_uri": "https://localhost:8080/"
        },
        "id": "uG6xymdVWve6",
        "outputId": "37962042-888b-456c-9689-20093d5a26fa"
      },
      "execution_count": null,
      "outputs": [
        {
          "output_type": "stream",
          "name": "stdout",
          "text": [
            "O preço previsto para o imóvel é de: 696578.9440787211\n"
          ]
        }
      ]
    }
  ]
}